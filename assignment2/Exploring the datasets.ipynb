{
 "cells": [
  {
   "cell_type": "code",
   "execution_count": 1,
   "id": "8aec26b0",
   "metadata": {},
   "outputs": [],
   "source": [
    "import pandas as pd\n",
    "pd.set_option('display.max_colwidth', None)"
   ]
  },
  {
   "cell_type": "markdown",
   "id": "4ce7531e",
   "metadata": {},
   "source": [
    "# Exploring the datasets\n",
    "\n",
    "**Warning: Offensive language**"
   ]
  },
  {
   "cell_type": "markdown",
   "id": "9831984f",
   "metadata": {},
   "source": [
    "The data directory should look like:\n",
    "```\n",
    "../pynlp/data/\n",
    "├── gibert\n",
    "│   ├── extraData.csv\n",
    "│   ├── testData.csv\n",
    "│   └── trainData.csv\n",
    "├── OLID-A\n",
    "│   ├── testData.csv\n",
    "│   └── trainData.csv\n",
    "├── README.md\n",
    "├── trac2018\n",
    "│   ├── devData.csv\n",
    "│   ├── testData-fb.csv\n",
    "│   ├── testData-tw.csv\n",
    "│   └── trainData.csv\n",
    "└── vidgen_extra\n",
    "    ├── Dynamically Generated Hate Dataset - annotation guidelines.pdf\n",
    "    ├── Dynamically Generated Hate Dataset v0.2.2.csv\n",
    "    ├── Dynamically Generated Hate Dataset v0.2.3.csv\n",
    "    └── README.md\n",
    "```"
   ]
  },
  {
   "cell_type": "code",
   "execution_count": 2,
   "id": "c98510e6",
   "metadata": {},
   "outputs": [],
   "source": [
    "DESIRED_COLUMNS = [\n",
    "    'Id',\n",
    "    'Text',\n",
    "    'Label'\n",
    "]"
   ]
  },
  {
   "cell_type": "markdown",
   "id": "8560009b",
   "metadata": {},
   "source": [
    "## TRAC2018\n",
    "\n",
    "Presented in\n",
    "*Ritesh Kumar, Aishwarya N. Reganti, Akshit Bhatia, Tushar Maheshwari (2018) Aggression-annotated Corpus of Hindi-English Code-mixed Data. In: Proceedings of LREC-2018*"
   ]
  },
  {
   "cell_type": "code",
   "execution_count": 3,
   "id": "3c903013",
   "metadata": {},
   "outputs": [
    {
     "data": {
      "text/html": [
       "<div>\n",
       "<style scoped>\n",
       "    .dataframe tbody tr th:only-of-type {\n",
       "        vertical-align: middle;\n",
       "    }\n",
       "\n",
       "    .dataframe tbody tr th {\n",
       "        vertical-align: top;\n",
       "    }\n",
       "\n",
       "    .dataframe thead th {\n",
       "        text-align: right;\n",
       "    }\n",
       "</style>\n",
       "<table border=\"1\" class=\"dataframe\">\n",
       "  <thead>\n",
       "    <tr style=\"text-align: right;\">\n",
       "      <th></th>\n",
       "      <th>Id</th>\n",
       "      <th>Text</th>\n",
       "      <th>Label</th>\n",
       "    </tr>\n",
       "  </thead>\n",
       "  <tbody>\n",
       "    <tr>\n",
       "      <th>4297</th>\n",
       "      <td>facebook_corpus_msr_1521828</td>\n",
       "      <td>Kerala has government with guts to counter politicising issue of ban of beef by BJP when all the people let it be minority only have all respect and uphold sanctity of  cow but creating fear sychosis even for other livestock which are legally allowed is a hypocrisy and arrogance.</td>\n",
       "      <td>OAG</td>\n",
       "    </tr>\n",
       "    <tr>\n",
       "      <th>3628</th>\n",
       "      <td>facebook_corpus_msr_423176</td>\n",
       "      <td>Tigor will be in showrooms post March 28: Tata Motors MD</td>\n",
       "      <td>NAG</td>\n",
       "    </tr>\n",
       "    <tr>\n",
       "      <th>7839</th>\n",
       "      <td>facebook_corpus_msr_394922</td>\n",
       "      <td>https://www.youtube.com/watch?v=k-b22XCgwqAHye &gt; #Rapeistan First Make Ur Soldiers Brave then Talk About War Against Pakistan and SoCald Surgical Strikes</td>\n",
       "      <td>NAG</td>\n",
       "    </tr>\n",
       "    <tr>\n",
       "      <th>913</th>\n",
       "      <td>facebook_corpus_msr_1791669</td>\n",
       "      <td>Dont look like a bad person atleast in these pics...maybe media overrated that one issue...</td>\n",
       "      <td>CAG</td>\n",
       "    </tr>\n",
       "    <tr>\n",
       "      <th>3549</th>\n",
       "      <td>facebook_corpus_msr_1521918</td>\n",
       "      <td>Kerala beef fry is delicious with rice cake...</td>\n",
       "      <td>NAG</td>\n",
       "    </tr>\n",
       "  </tbody>\n",
       "</table>\n",
       "</div>"
      ],
      "text/plain": [
       "                               Id  \\\n",
       "4297  facebook_corpus_msr_1521828   \n",
       "3628   facebook_corpus_msr_423176   \n",
       "7839   facebook_corpus_msr_394922   \n",
       "913   facebook_corpus_msr_1791669   \n",
       "3549  facebook_corpus_msr_1521918   \n",
       "\n",
       "                                                                                                                                                                                                                                                                                          Text  \\\n",
       "4297  Kerala has government with guts to counter politicising issue of ban of beef by BJP when all the people let it be minority only have all respect and uphold sanctity of  cow but creating fear sychosis even for other livestock which are legally allowed is a hypocrisy and arrogance.   \n",
       "3628                                                                                                                                                                                                                                  Tigor will be in showrooms post March 28: Tata Motors MD   \n",
       "7839                                                                                                                                 https://www.youtube.com/watch?v=k-b22XCgwqAHye > #Rapeistan First Make Ur Soldiers Brave then Talk About War Against Pakistan and SoCald Surgical Strikes   \n",
       "913                                                                                                                                                                                                Dont look like a bad person atleast in these pics...maybe media overrated that one issue...   \n",
       "3549                                                                                                                                                                                                                                            Kerala beef fry is delicious with rice cake...   \n",
       "\n",
       "     Label  \n",
       "4297   OAG  \n",
       "3628   NAG  \n",
       "7839   NAG  \n",
       "913    CAG  \n",
       "3549   NAG  "
      ]
     },
     "execution_count": 3,
     "metadata": {},
     "output_type": "execute_result"
    }
   ],
   "source": [
    "df_trac2018 = pd.read_csv('../pynlp/data/trac2018/trainData.csv', delimiter='\\t')\n",
    "df_trac2018.sample(5, random_state=12345)"
   ]
  },
  {
   "cell_type": "code",
   "execution_count": 4,
   "id": "f8aa6017",
   "metadata": {},
   "outputs": [],
   "source": [
    "df_trac2018.columns = DESIRED_COLUMNS"
   ]
  },
  {
   "cell_type": "code",
   "execution_count": 5,
   "id": "8e8cd96b",
   "metadata": {},
   "outputs": [
    {
     "data": {
      "text/html": [
       "<div>\n",
       "<style scoped>\n",
       "    .dataframe tbody tr th:only-of-type {\n",
       "        vertical-align: middle;\n",
       "    }\n",
       "\n",
       "    .dataframe tbody tr th {\n",
       "        vertical-align: top;\n",
       "    }\n",
       "\n",
       "    .dataframe thead th {\n",
       "        text-align: right;\n",
       "    }\n",
       "</style>\n",
       "<table border=\"1\" class=\"dataframe\">\n",
       "  <thead>\n",
       "    <tr style=\"text-align: right;\">\n",
       "      <th></th>\n",
       "      <th>Id</th>\n",
       "    </tr>\n",
       "    <tr>\n",
       "      <th>Label</th>\n",
       "      <th></th>\n",
       "    </tr>\n",
       "  </thead>\n",
       "  <tbody>\n",
       "    <tr>\n",
       "      <th>CAG</th>\n",
       "      <td>4240</td>\n",
       "    </tr>\n",
       "    <tr>\n",
       "      <th>NAG</th>\n",
       "      <td>5051</td>\n",
       "    </tr>\n",
       "    <tr>\n",
       "      <th>OAG</th>\n",
       "      <td>2708</td>\n",
       "    </tr>\n",
       "  </tbody>\n",
       "</table>\n",
       "</div>"
      ],
      "text/plain": [
       "         Id\n",
       "Label      \n",
       "CAG    4240\n",
       "NAG    5051\n",
       "OAG    2708"
      ]
     },
     "execution_count": 5,
     "metadata": {},
     "output_type": "execute_result"
    }
   ],
   "source": [
    "df_trac2018.groupby('Label')[['Id']].count()"
   ]
  },
  {
   "cell_type": "code",
   "execution_count": 6,
   "id": "9f5c5fc4",
   "metadata": {},
   "outputs": [
    {
     "name": "stdout",
     "output_type": "stream",
     "text": [
      "total 3180\r\n",
      "-rw-r--r-- 1 rutger rutger  502403 Jul 13  2019 devData.csv\r\n",
      "-rw-r--r-- 1 rutger rutger  324171 Sep 23 11:32 testData.csv\r\n",
      "-rw-r--r-- 1 rutger rutger  176206 Jul 13  2019 testData-fb.csv\r\n",
      "-rw-r--r-- 1 rutger rutger  147979 Jul 13  2019 testData-tw.csv\r\n",
      "-rw-r--r-- 1 rutger rutger 2092225 Jul 13  2019 trainData.csv\r\n"
     ]
    }
   ],
   "source": [
    "!ls -l ../pynlp/data/trac2018/"
   ]
  },
  {
   "cell_type": "markdown",
   "id": "c0af7b29",
   "metadata": {},
   "source": [
    "not sure why train data is not split, whereas test data is"
   ]
  },
  {
   "cell_type": "code",
   "execution_count": 7,
   "id": "26dc71dc",
   "metadata": {},
   "outputs": [],
   "source": [
    "df_trac2018_test_fb = pd.read_csv('../pynlp/data/trac2018/testData-fb.csv', delimiter='\\t')\n",
    "df_trac2018_test_tw = pd.read_csv('../pynlp/data/trac2018/testData-tw.csv', delimiter='\\t')"
   ]
  },
  {
   "cell_type": "code",
   "execution_count": 8,
   "id": "73c1b356",
   "metadata": {},
   "outputs": [],
   "source": [
    "df_trac2018_test = pd.concat([\n",
    "    df_trac2018_test_fb,\n",
    "    df_trac2018_test_tw\n",
    "])"
   ]
  },
  {
   "cell_type": "code",
   "execution_count": 9,
   "id": "06f7ab26",
   "metadata": {},
   "outputs": [],
   "source": [
    "df_trac2018_test.to_csv(\n",
    "    '../pynlp/data/trac2018/testData.csv',\n",
    "    index=False,\n",
    "    sep='\\t'\n",
    ")"
   ]
  },
  {
   "cell_type": "markdown",
   "id": "7f94e647",
   "metadata": {},
   "source": [
    "## OLID\n",
    "\n",
    "Presented in *[Predicting the Type and Target of Offensive Posts in Social Media](https://aclanthology.org/N19-1144) (Zampieri et al., NAACL 2019)*"
   ]
  },
  {
   "cell_type": "code",
   "execution_count": 10,
   "id": "3a1a9bdd",
   "metadata": {},
   "outputs": [
    {
     "data": {
      "text/html": [
       "<div>\n",
       "<style scoped>\n",
       "    .dataframe tbody tr th:only-of-type {\n",
       "        vertical-align: middle;\n",
       "    }\n",
       "\n",
       "    .dataframe tbody tr th {\n",
       "        vertical-align: top;\n",
       "    }\n",
       "\n",
       "    .dataframe thead th {\n",
       "        text-align: right;\n",
       "    }\n",
       "</style>\n",
       "<table border=\"1\" class=\"dataframe\">\n",
       "  <thead>\n",
       "    <tr style=\"text-align: right;\">\n",
       "      <th></th>\n",
       "      <th>ID</th>\n",
       "      <th>Text</th>\n",
       "      <th>Label</th>\n",
       "    </tr>\n",
       "  </thead>\n",
       "  <tbody>\n",
       "    <tr>\n",
       "      <th>5505</th>\n",
       "      <td>99282</td>\n",
       "      <td>@USER @USER This can ONLY help the Conservatives unify!  🙄</td>\n",
       "      <td>NOT</td>\n",
       "    </tr>\n",
       "    <tr>\n",
       "      <th>5847</th>\n",
       "      <td>17954</td>\n",
       "      <td>@USER @USER @USER She is laughing the most. URL</td>\n",
       "      <td>NOT</td>\n",
       "    </tr>\n",
       "    <tr>\n",
       "      <th>10439</th>\n",
       "      <td>10332</td>\n",
       "      <td>#meDIAtoo  Selective putrid outrage ONLY AT Conservatives only BY LIBERALS who want us to know how MORAL they are!!!  Re: Kavanaugh and ANY OTHER REPUB who will stand up against them!! URL</td>\n",
       "      <td>NOT</td>\n",
       "    </tr>\n",
       "    <tr>\n",
       "      <th>10025</th>\n",
       "      <td>37450</td>\n",
       "      <td>#GeraniumInTheCranium. Please also dredge up some of her ridiculous “gun control” bills that were shot down. URL</td>\n",
       "      <td>OFF</td>\n",
       "    </tr>\n",
       "    <tr>\n",
       "      <th>7320</th>\n",
       "      <td>91919</td>\n",
       "      <td>@USER @USER @USER How many @USER backbenchers think it’s workable? URL</td>\n",
       "      <td>NOT</td>\n",
       "    </tr>\n",
       "  </tbody>\n",
       "</table>\n",
       "</div>"
      ],
      "text/plain": [
       "          ID  \\\n",
       "5505   99282   \n",
       "5847   17954   \n",
       "10439  10332   \n",
       "10025  37450   \n",
       "7320   91919   \n",
       "\n",
       "                                                                                                                                                                                               Text  \\\n",
       "5505                                                                                                                                     @USER @USER This can ONLY help the Conservatives unify!  🙄   \n",
       "5847                                                                                                                                                @USER @USER @USER She is laughing the most. URL   \n",
       "10439  #meDIAtoo  Selective putrid outrage ONLY AT Conservatives only BY LIBERALS who want us to know how MORAL they are!!!  Re: Kavanaugh and ANY OTHER REPUB who will stand up against them!! URL   \n",
       "10025                                                                              #GeraniumInTheCranium. Please also dredge up some of her ridiculous “gun control” bills that were shot down. URL   \n",
       "7320                                                                                                                         @USER @USER @USER How many @USER backbenchers think it’s workable? URL   \n",
       "\n",
       "      Label  \n",
       "5505    NOT  \n",
       "5847    NOT  \n",
       "10439   NOT  \n",
       "10025   OFF  \n",
       "7320    NOT  "
      ]
     },
     "execution_count": 10,
     "metadata": {},
     "output_type": "execute_result"
    }
   ],
   "source": [
    "df_olid = pd.read_csv('../pynlp/data/OLID-A/trainData.csv', delimiter='\\t')\n",
    "df_olid.sample(5, random_state=12345)"
   ]
  },
  {
   "cell_type": "code",
   "execution_count": 11,
   "id": "2574af1a",
   "metadata": {},
   "outputs": [],
   "source": [
    "df_olid.columns = DESIRED_COLUMNS"
   ]
  },
  {
   "cell_type": "code",
   "execution_count": 12,
   "id": "20d612f8",
   "metadata": {
    "scrolled": true
   },
   "outputs": [
    {
     "data": {
      "text/html": [
       "<div>\n",
       "<style scoped>\n",
       "    .dataframe tbody tr th:only-of-type {\n",
       "        vertical-align: middle;\n",
       "    }\n",
       "\n",
       "    .dataframe tbody tr th {\n",
       "        vertical-align: top;\n",
       "    }\n",
       "\n",
       "    .dataframe thead th {\n",
       "        text-align: right;\n",
       "    }\n",
       "</style>\n",
       "<table border=\"1\" class=\"dataframe\">\n",
       "  <thead>\n",
       "    <tr style=\"text-align: right;\">\n",
       "      <th></th>\n",
       "      <th>Id</th>\n",
       "    </tr>\n",
       "    <tr>\n",
       "      <th>Label</th>\n",
       "      <th></th>\n",
       "    </tr>\n",
       "  </thead>\n",
       "  <tbody>\n",
       "    <tr>\n",
       "      <th>NOT</th>\n",
       "      <td>8840</td>\n",
       "    </tr>\n",
       "    <tr>\n",
       "      <th>OFF</th>\n",
       "      <td>4400</td>\n",
       "    </tr>\n",
       "  </tbody>\n",
       "</table>\n",
       "</div>"
      ],
      "text/plain": [
       "         Id\n",
       "Label      \n",
       "NOT    8840\n",
       "OFF    4400"
      ]
     },
     "execution_count": 12,
     "metadata": {},
     "output_type": "execute_result"
    }
   ],
   "source": [
    "df_olid.groupby('Label')[['Id']].count()"
   ]
  },
  {
   "cell_type": "code",
   "execution_count": 13,
   "id": "d3a89539",
   "metadata": {},
   "outputs": [
    {
     "data": {
      "text/plain": [
       "Index(['Id', 'Text', 'Label'], dtype='object')"
      ]
     },
     "execution_count": 13,
     "metadata": {},
     "output_type": "execute_result"
    }
   ],
   "source": [
    "df_olid_test = pd.read_csv('../pynlp/data/OLID-A/testData.csv', delimiter='\\t')\n",
    "df_olid_test.columns"
   ]
  },
  {
   "cell_type": "markdown",
   "id": "26bb584f",
   "metadata": {},
   "source": [
    "Test dataset for OLID has an empty column for some reason."
   ]
  },
  {
   "cell_type": "code",
   "execution_count": 14,
   "id": "b76ca5e2",
   "metadata": {},
   "outputs": [],
   "source": [
    "# If notebook has been run once the empty column is not there anymore\n",
    "if ' ' in df_olid_test.columns:\n",
    "    df_olid_test = df_olid_test.drop(columns=' ')"
   ]
  },
  {
   "cell_type": "code",
   "execution_count": 15,
   "id": "8d172f4e",
   "metadata": {},
   "outputs": [],
   "source": [
    "df_olid_test.to_csv('../pynlp/data/OLID-A/testData.csv', index=False, sep='\\t')"
   ]
  },
  {
   "cell_type": "markdown",
   "id": "7d81e7b7",
   "metadata": {},
   "source": [
    "# Gibert\n",
    "\n",
    "Presented in *O. de Gibert, N. Pérez, A. García-Pablos, M. Cuadros, 2018. Hate Speech Dataset from a White Supremacy Forum. In ALW2: 2nd Workshop on Abusive Language Online.*"
   ]
  },
  {
   "cell_type": "code",
   "execution_count": 16,
   "id": "3d717b87",
   "metadata": {
    "scrolled": true
   },
   "outputs": [
    {
     "data": {
      "text/html": [
       "<div>\n",
       "<style scoped>\n",
       "    .dataframe tbody tr th:only-of-type {\n",
       "        vertical-align: middle;\n",
       "    }\n",
       "\n",
       "    .dataframe tbody tr th {\n",
       "        vertical-align: top;\n",
       "    }\n",
       "\n",
       "    .dataframe thead th {\n",
       "        text-align: right;\n",
       "    }\n",
       "</style>\n",
       "<table border=\"1\" class=\"dataframe\">\n",
       "  <thead>\n",
       "    <tr style=\"text-align: right;\">\n",
       "      <th></th>\n",
       "      <th>Id</th>\n",
       "      <th>Text</th>\n",
       "      <th>Label</th>\n",
       "    </tr>\n",
       "  </thead>\n",
       "  <tbody>\n",
       "    <tr>\n",
       "      <th>1290</th>\n",
       "      <td>13260874_2</td>\n",
       "      <td>I hope all their farms burn down and their nappy headed children squandle in the flames .</td>\n",
       "      <td>hate</td>\n",
       "    </tr>\n",
       "    <tr>\n",
       "      <th>260</th>\n",
       "      <td>13586829_1</td>\n",
       "      <td>How on earth can they be Swedes when they are the result of race treason ?</td>\n",
       "      <td>hate</td>\n",
       "    </tr>\n",
       "    <tr>\n",
       "      <th>1085</th>\n",
       "      <td>13434590_2</td>\n",
       "      <td>Where a white woman can go about in public and not fear assault by muds .</td>\n",
       "      <td>hate</td>\n",
       "    </tr>\n",
       "    <tr>\n",
       "      <th>347</th>\n",
       "      <td>14416429_3</td>\n",
       "      <td>Let the non-whites pollute their bodies with that garbage .</td>\n",
       "      <td>hate</td>\n",
       "    </tr>\n",
       "    <tr>\n",
       "      <th>1758</th>\n",
       "      <td>12899322_3</td>\n",
       "      <td>See the pattern .</td>\n",
       "      <td>noHate</td>\n",
       "    </tr>\n",
       "  </tbody>\n",
       "</table>\n",
       "</div>"
      ],
      "text/plain": [
       "              Id  \\\n",
       "1290  13260874_2   \n",
       "260   13586829_1   \n",
       "1085  13434590_2   \n",
       "347   14416429_3   \n",
       "1758  12899322_3   \n",
       "\n",
       "                                                                                           Text  \\\n",
       "1290  I hope all their farms burn down and their nappy headed children squandle in the flames .   \n",
       "260                  How on earth can they be Swedes when they are the result of race treason ?   \n",
       "1085                  Where a white woman can go about in public and not fear assault by muds .   \n",
       "347                                 Let the non-whites pollute their bodies with that garbage .   \n",
       "1758                                                                          See the pattern .   \n",
       "\n",
       "       Label  \n",
       "1290    hate  \n",
       "260     hate  \n",
       "1085    hate  \n",
       "347     hate  \n",
       "1758  noHate  "
      ]
     },
     "execution_count": 16,
     "metadata": {},
     "output_type": "execute_result"
    }
   ],
   "source": [
    "df_gibert = pd.read_csv('../pynlp/data/gibert/trainData.csv', delimiter='\\t')\n",
    "df_gibert.sample(5, random_state=12345)"
   ]
  },
  {
   "cell_type": "code",
   "execution_count": 17,
   "id": "5ebcbcd3",
   "metadata": {},
   "outputs": [],
   "source": [
    "df_gibert.columns = DESIRED_COLUMNS"
   ]
  },
  {
   "cell_type": "code",
   "execution_count": 18,
   "id": "55b2c397",
   "metadata": {},
   "outputs": [
    {
     "data": {
      "text/html": [
       "<div>\n",
       "<style scoped>\n",
       "    .dataframe tbody tr th:only-of-type {\n",
       "        vertical-align: middle;\n",
       "    }\n",
       "\n",
       "    .dataframe tbody tr th {\n",
       "        vertical-align: top;\n",
       "    }\n",
       "\n",
       "    .dataframe thead th {\n",
       "        text-align: right;\n",
       "    }\n",
       "</style>\n",
       "<table border=\"1\" class=\"dataframe\">\n",
       "  <thead>\n",
       "    <tr style=\"text-align: right;\">\n",
       "      <th></th>\n",
       "      <th>Id</th>\n",
       "    </tr>\n",
       "    <tr>\n",
       "      <th>Label</th>\n",
       "      <th></th>\n",
       "    </tr>\n",
       "  </thead>\n",
       "  <tbody>\n",
       "    <tr>\n",
       "      <th>hate</th>\n",
       "      <td>957</td>\n",
       "    </tr>\n",
       "    <tr>\n",
       "      <th>noHate</th>\n",
       "      <td>957</td>\n",
       "    </tr>\n",
       "  </tbody>\n",
       "</table>\n",
       "</div>"
      ],
      "text/plain": [
       "         Id\n",
       "Label      \n",
       "hate    957\n",
       "noHate  957"
      ]
     },
     "execution_count": 18,
     "metadata": {},
     "output_type": "execute_result"
    }
   ],
   "source": [
    "df_gibert.groupby('Label')[['Id']].count()"
   ]
  },
  {
   "cell_type": "markdown",
   "id": "e393cc63",
   "metadata": {},
   "source": [
    "## Vidgen\n",
    "\n",
    "Presented in *[Learning from the Worst: Dynamically Generated Datasets to Improve Online Hate Detection](https://aclanthology.org/2021.acl-long.132) (Vidgen et al., ACL 2021)*"
   ]
  },
  {
   "cell_type": "code",
   "execution_count": 19,
   "id": "fabbd6f0",
   "metadata": {},
   "outputs": [
    {
     "data": {
      "text/html": [
       "<div>\n",
       "<style scoped>\n",
       "    .dataframe tbody tr th:only-of-type {\n",
       "        vertical-align: middle;\n",
       "    }\n",
       "\n",
       "    .dataframe tbody tr th {\n",
       "        vertical-align: top;\n",
       "    }\n",
       "\n",
       "    .dataframe thead th {\n",
       "        text-align: right;\n",
       "    }\n",
       "</style>\n",
       "<table border=\"1\" class=\"dataframe\">\n",
       "  <thead>\n",
       "    <tr style=\"text-align: right;\">\n",
       "      <th></th>\n",
       "      <th>Unnamed: 0</th>\n",
       "      <th>acl.id</th>\n",
       "      <th>X1</th>\n",
       "      <th>text</th>\n",
       "      <th>label</th>\n",
       "      <th>type</th>\n",
       "      <th>target</th>\n",
       "      <th>level</th>\n",
       "      <th>split</th>\n",
       "      <th>round.base</th>\n",
       "      <th>annotator</th>\n",
       "      <th>round</th>\n",
       "      <th>acl.id.matched</th>\n",
       "    </tr>\n",
       "  </thead>\n",
       "  <tbody>\n",
       "    <tr>\n",
       "      <th>3102</th>\n",
       "      <td>3139</td>\n",
       "      <td>acl12822</td>\n",
       "      <td>3139</td>\n",
       "      <td>This bloody tumble dryer is nothing but trash</td>\n",
       "      <td>nothate</td>\n",
       "      <td>none</td>\n",
       "      <td>none</td>\n",
       "      <td>original</td>\n",
       "      <td>train</td>\n",
       "      <td>2</td>\n",
       "      <td>LqLKTtrOmx</td>\n",
       "      <td>2a</td>\n",
       "      <td>acl12823</td>\n",
       "    </tr>\n",
       "    <tr>\n",
       "      <th>8887</th>\n",
       "      <td>8931</td>\n",
       "      <td>acl18035</td>\n",
       "      <td>8931</td>\n",
       "      <td>He is a prick so I'm just calling him by the appropriate word, it's not my fault he's a fool</td>\n",
       "      <td>nothate</td>\n",
       "      <td>none</td>\n",
       "      <td>none</td>\n",
       "      <td>perturbation</td>\n",
       "      <td>train</td>\n",
       "      <td>2</td>\n",
       "      <td>TrRF46JWfP</td>\n",
       "      <td>2b</td>\n",
       "      <td>acl18034</td>\n",
       "    </tr>\n",
       "    <tr>\n",
       "      <th>15780</th>\n",
       "      <td>15839</td>\n",
       "      <td>acl24252</td>\n",
       "      <td>15839</td>\n",
       "      <td>Get castrated you fucking dickhead</td>\n",
       "      <td>nothate</td>\n",
       "      <td>none</td>\n",
       "      <td>none</td>\n",
       "      <td>original</td>\n",
       "      <td>train</td>\n",
       "      <td>3</td>\n",
       "      <td>oemYWm1Tjg</td>\n",
       "      <td>3a</td>\n",
       "      <td>acl24253</td>\n",
       "    </tr>\n",
       "    <tr>\n",
       "      <th>1696</th>\n",
       "      <td>1731</td>\n",
       "      <td>acl11555</td>\n",
       "      <td>1731</td>\n",
       "      <td>salmon is the superior of all fish. She really a bad bitch!</td>\n",
       "      <td>nothate</td>\n",
       "      <td>none</td>\n",
       "      <td>none</td>\n",
       "      <td>original</td>\n",
       "      <td>train</td>\n",
       "      <td>2</td>\n",
       "      <td>GNZuCtwed3</td>\n",
       "      <td>2a</td>\n",
       "      <td>acl11556</td>\n",
       "    </tr>\n",
       "    <tr>\n",
       "      <th>16691</th>\n",
       "      <td>16752</td>\n",
       "      <td>acl25074</td>\n",
       "      <td>16752</td>\n",
       "      <td>If the data is properly encoded and access to personal devices denied then ad-hoc networks of this sort are the future. That being said: those spazzi3s are certainly not doing it right or in good faith and are soooo not trustworthy to carry out such an advancement</td>\n",
       "      <td>hate</td>\n",
       "      <td>derogation</td>\n",
       "      <td>dis</td>\n",
       "      <td>perturbation</td>\n",
       "      <td>train</td>\n",
       "      <td>3</td>\n",
       "      <td>CAgNlUizNm</td>\n",
       "      <td>3b</td>\n",
       "      <td>acl25073</td>\n",
       "    </tr>\n",
       "  </tbody>\n",
       "</table>\n",
       "</div>"
      ],
      "text/plain": [
       "       Unnamed: 0    acl.id     X1  \\\n",
       "3102         3139  acl12822   3139   \n",
       "8887         8931  acl18035   8931   \n",
       "15780       15839  acl24252  15839   \n",
       "1696         1731  acl11555   1731   \n",
       "16691       16752  acl25074  16752   \n",
       "\n",
       "                                                                                                                                                                                                                                                                           text  \\\n",
       "3102                                                                                                                                                                                                                              This bloody tumble dryer is nothing but trash   \n",
       "8887                                                                                                                                                                               He is a prick so I'm just calling him by the appropriate word, it's not my fault he's a fool   \n",
       "15780                                                                                                                                                                                                                                        Get castrated you fucking dickhead   \n",
       "1696                                                                                                                                                                                                                salmon is the superior of all fish. She really a bad bitch!   \n",
       "16691  If the data is properly encoded and access to personal devices denied then ad-hoc networks of this sort are the future. That being said: those spazzi3s are certainly not doing it right or in good faith and are soooo not trustworthy to carry out such an advancement   \n",
       "\n",
       "         label        type target         level  split  round.base  \\\n",
       "3102   nothate        none   none      original  train           2   \n",
       "8887   nothate        none   none  perturbation  train           2   \n",
       "15780  nothate        none   none      original  train           3   \n",
       "1696   nothate        none   none      original  train           2   \n",
       "16691     hate  derogation    dis  perturbation  train           3   \n",
       "\n",
       "        annotator round acl.id.matched  \n",
       "3102   LqLKTtrOmx    2a       acl12823  \n",
       "8887   TrRF46JWfP    2b       acl18034  \n",
       "15780  oemYWm1Tjg    3a       acl24253  \n",
       "1696   GNZuCtwed3    2a       acl11556  \n",
       "16691  CAgNlUizNm    3b       acl25073  "
      ]
     },
     "execution_count": 19,
     "metadata": {},
     "output_type": "execute_result"
    }
   ],
   "source": [
    "df_vidgen = pd.read_csv('../pynlp/data/vidgen_extra/Dynamically Generated Hate Dataset v0.2.3.csv')\n",
    "df_vidgen.sample(5, random_state=12345)"
   ]
  },
  {
   "cell_type": "markdown",
   "id": "969cb90d",
   "metadata": {},
   "source": [
    "**label**"
   ]
  },
  {
   "cell_type": "code",
   "execution_count": 20,
   "id": "a4bd1b73",
   "metadata": {},
   "outputs": [
    {
     "data": {
      "text/html": [
       "<div>\n",
       "<style scoped>\n",
       "    .dataframe tbody tr th:only-of-type {\n",
       "        vertical-align: middle;\n",
       "    }\n",
       "\n",
       "    .dataframe tbody tr th {\n",
       "        vertical-align: top;\n",
       "    }\n",
       "\n",
       "    .dataframe thead th {\n",
       "        text-align: right;\n",
       "    }\n",
       "</style>\n",
       "<table border=\"1\" class=\"dataframe\">\n",
       "  <thead>\n",
       "    <tr style=\"text-align: right;\">\n",
       "      <th></th>\n",
       "      <th>acl.id</th>\n",
       "    </tr>\n",
       "    <tr>\n",
       "      <th>label</th>\n",
       "      <th></th>\n",
       "    </tr>\n",
       "  </thead>\n",
       "  <tbody>\n",
       "    <tr>\n",
       "      <th>hate</th>\n",
       "      <td>22175</td>\n",
       "    </tr>\n",
       "    <tr>\n",
       "      <th>nothate</th>\n",
       "      <td>18969</td>\n",
       "    </tr>\n",
       "  </tbody>\n",
       "</table>\n",
       "</div>"
      ],
      "text/plain": [
       "         acl.id\n",
       "label          \n",
       "hate      22175\n",
       "nothate   18969"
      ]
     },
     "execution_count": 20,
     "metadata": {},
     "output_type": "execute_result"
    }
   ],
   "source": [
    "df_vidgen.groupby('label')[['acl.id']].count()"
   ]
  },
  {
   "cell_type": "markdown",
   "id": "0b94e684",
   "metadata": {},
   "source": [
    "Same annotation scheme used as Gibert. Make it uniform."
   ]
  },
  {
   "cell_type": "code",
   "execution_count": 21,
   "id": "6fafbf70",
   "metadata": {},
   "outputs": [],
   "source": [
    "df_vidgen['label'] = df_vidgen['label'].replace({\n",
    "    'hate': 'hate',\n",
    "    'nothate': 'noHate'\n",
    "})"
   ]
  },
  {
   "cell_type": "code",
   "execution_count": 22,
   "id": "e106996d",
   "metadata": {},
   "outputs": [
    {
     "data": {
      "text/plain": [
       "array(['train', 'test', 'dev'], dtype=object)"
      ]
     },
     "execution_count": 22,
     "metadata": {},
     "output_type": "execute_result"
    }
   ],
   "source": [
    "df_vidgen['split'].unique()"
   ]
  },
  {
   "cell_type": "markdown",
   "id": "3368ec91",
   "metadata": {},
   "source": [
    "**VUA format**"
   ]
  },
  {
   "cell_type": "code",
   "execution_count": 23,
   "id": "14247302",
   "metadata": {},
   "outputs": [],
   "source": [
    "!mkdir -p ../pynlp/data/vidgen_vua"
   ]
  },
  {
   "cell_type": "code",
   "execution_count": 24,
   "id": "7f5e001b",
   "metadata": {},
   "outputs": [],
   "source": [
    "for split in df_vidgen['split'].unique():\n",
    "    df_vidgen_split = df_vidgen[df_vidgen['split'] == split]\n",
    "    df_vidgen_split = df_vidgen_split[['acl.id', 'text', 'label']]\n",
    "    df_vidgen_split.to_csv(\n",
    "        f'../pynlp/data/vidgen_vua/{split}Data.csv',\n",
    "        index=False,\n",
    "        sep='\\t'\n",
    "    )"
   ]
  },
  {
   "cell_type": "markdown",
   "id": "5e1e3610",
   "metadata": {},
   "source": [
    "# Combining datasets\n",
    "\n",
    "Here we combine datasets from above to form larger training datasets"
   ]
  },
  {
   "cell_type": "markdown",
   "id": "f67c94dd",
   "metadata": {},
   "source": [
    "### Dataset 1\n",
    "\n",
    "Dataset 1 represents a concatenation of the Gibert, OLID and TRAC 2018 data"
   ]
  },
  {
   "cell_type": "code",
   "execution_count": 25,
   "id": "f01e0875",
   "metadata": {},
   "outputs": [],
   "source": [
    "!mkdir -p ../pynlp/data/dataset1/"
   ]
  },
  {
   "cell_type": "code",
   "execution_count": 26,
   "id": "9ca414d9",
   "metadata": {},
   "outputs": [],
   "source": [
    "for split in ['train', 'test']:\n",
    "    df_all = []\n",
    "    for dataset in ['gibert', 'OLID-A', 'trac2018']:\n",
    "        df_part = pd.read_csv(f'../pynlp/data/{dataset}/{split}Data.csv', delimiter='\\t')\n",
    "        df_part.columns = DESIRED_COLUMNS\n",
    "        df_part['Source'] = dataset\n",
    "        df_all.append(df_part)\n",
    "    \n",
    "    df_all = pd.concat(df_all)\n",
    "    df_all.to_csv(\n",
    "        f'../pynlp/data/dataset1/{split}Data.csv',\n",
    "        index=False,\n",
    "        sep='\\t'\n",
    "    )"
   ]
  },
  {
   "cell_type": "code",
   "execution_count": 27,
   "id": "9d008e0a",
   "metadata": {},
   "outputs": [
    {
     "data": {
      "text/html": [
       "<div>\n",
       "<style scoped>\n",
       "    .dataframe tbody tr th:only-of-type {\n",
       "        vertical-align: middle;\n",
       "    }\n",
       "\n",
       "    .dataframe tbody tr th {\n",
       "        vertical-align: top;\n",
       "    }\n",
       "\n",
       "    .dataframe thead th {\n",
       "        text-align: right;\n",
       "    }\n",
       "</style>\n",
       "<table border=\"1\" class=\"dataframe\">\n",
       "  <thead>\n",
       "    <tr style=\"text-align: right;\">\n",
       "      <th></th>\n",
       "      <th>Id</th>\n",
       "      <th>Text</th>\n",
       "      <th>Label</th>\n",
       "      <th>Source</th>\n",
       "    </tr>\n",
       "  </thead>\n",
       "  <tbody>\n",
       "    <tr>\n",
       "      <th>18959</th>\n",
       "      <td>facebook_corpus_msr_326868</td>\n",
       "      <td>in 1971 we can have kill ur 93000 army but we leave them and not did any bargaining.it is India</td>\n",
       "      <td>CAG</td>\n",
       "      <td>trac2018</td>\n",
       "    </tr>\n",
       "    <tr>\n",
       "      <th>3214</th>\n",
       "      <td>94776</td>\n",
       "      <td>@USER @USER @USER Actually, since you believe blindly when it's what you want to believe, you would've learned\" it is a free speech symbol due to social media platforms censoring conservatives. It shows who is being censored. You wouldn't know that or care. Bet if were being censored you would.\"</td>\n",
       "      <td>NOT</td>\n",
       "      <td>OLID-A</td>\n",
       "    </tr>\n",
       "    <tr>\n",
       "      <th>14129</th>\n",
       "      <td>87204</td>\n",
       "      <td>*Your love for one another is the starlight in the darkness that surrounds you. May that luminous love sustain you until the first day of rain cleanses the heartache you are enduring and washes away the pain.* @USER   #RememberingEdward</td>\n",
       "      <td>NOT</td>\n",
       "      <td>OLID-A</td>\n",
       "    </tr>\n",
       "    <tr>\n",
       "      <th>21335</th>\n",
       "      <td>facebook_corpus_msr_1931149</td>\n",
       "      <td>U r obsessed with bjp !</td>\n",
       "      <td>OAG</td>\n",
       "      <td>trac2018</td>\n",
       "    </tr>\n",
       "    <tr>\n",
       "      <th>11608</th>\n",
       "      <td>80099</td>\n",
       "      <td>@USER //xD Well the suffering she goes through and all the terrible shit she sees ends up making her pretty insane (I think you already seen that from certain things I posted XD) but hey at least she's only insane to bad guys!</td>\n",
       "      <td>OFF</td>\n",
       "      <td>OLID-A</td>\n",
       "    </tr>\n",
       "  </tbody>\n",
       "</table>\n",
       "</div>"
      ],
      "text/plain": [
       "                                Id  \\\n",
       "18959   facebook_corpus_msr_326868   \n",
       "3214                         94776   \n",
       "14129                        87204   \n",
       "21335  facebook_corpus_msr_1931149   \n",
       "11608                        80099   \n",
       "\n",
       "                                                                                                                                                                                                                                                                                                           Text  \\\n",
       "18959                                                                                                                                                                                                           in 1971 we can have kill ur 93000 army but we leave them and not did any bargaining.it is India   \n",
       "3214   @USER @USER @USER Actually, since you believe blindly when it's what you want to believe, you would've learned\" it is a free speech symbol due to social media platforms censoring conservatives. It shows who is being censored. You wouldn't know that or care. Bet if were being censored you would.\"   \n",
       "14129                                                              *Your love for one another is the starlight in the darkness that surrounds you. May that luminous love sustain you until the first day of rain cleanses the heartache you are enduring and washes away the pain.* @USER   #RememberingEdward   \n",
       "21335                                                                                                                                                                                                                                                                                   U r obsessed with bjp !   \n",
       "11608                                                                        @USER //xD Well the suffering she goes through and all the terrible shit she sees ends up making her pretty insane (I think you already seen that from certain things I posted XD) but hey at least she's only insane to bad guys!   \n",
       "\n",
       "      Label    Source  \n",
       "18959   CAG  trac2018  \n",
       "3214    NOT    OLID-A  \n",
       "14129   NOT    OLID-A  \n",
       "21335   OAG  trac2018  \n",
       "11608   OFF    OLID-A  "
      ]
     },
     "execution_count": 27,
     "metadata": {},
     "output_type": "execute_result"
    }
   ],
   "source": [
    "d1_train = pd.read_csv('../pynlp/data/dataset1/trainData.csv', delimiter='\\t')\n",
    "d1_train.sample(5)"
   ]
  },
  {
   "cell_type": "markdown",
   "id": "5ec866b9",
   "metadata": {},
   "source": [
    "### Dataset 2\n",
    "\n",
    "Dataset 2 represents a concatenation of dataset 1 (Gibert, OLID and TRAC 2018), together with the dynamically generated data from Vidgen."
   ]
  },
  {
   "cell_type": "code",
   "execution_count": 28,
   "id": "fd98d2e1",
   "metadata": {},
   "outputs": [],
   "source": [
    "!mkdir -p ../pynlp/data/dataset2/"
   ]
  },
  {
   "cell_type": "code",
   "execution_count": 29,
   "id": "003fcfa1",
   "metadata": {},
   "outputs": [],
   "source": [
    "for split in ['train', 'test']:\n",
    "    df_all = []\n",
    "    for dataset in ['gibert', 'OLID-A', 'trac2018', 'vidgen_vua']:\n",
    "        df_part = pd.read_csv(\n",
    "            f'../pynlp/data/{dataset}/{split}Data.csv',\n",
    "            encoding='latin-1',\n",
    "            engine='python',\n",
    "            delimiter='\\t'\n",
    "        )\n",
    "        df_part.columns = DESIRED_COLUMNS\n",
    "        df_part['Source'] = dataset\n",
    "        df_all.append(df_part)\n",
    "    \n",
    "    df_all = pd.concat(df_all)\n",
    "    df_all.to_csv(\n",
    "        f'../pynlp/data/dataset2/{split}Data.csv',\n",
    "        index=False,\n",
    "        sep='\\t'\n",
    "    )"
   ]
  },
  {
   "cell_type": "code",
   "execution_count": 30,
   "id": "22c15693",
   "metadata": {},
   "outputs": [
    {
     "data": {
      "text/html": [
       "<div>\n",
       "<style scoped>\n",
       "    .dataframe tbody tr th:only-of-type {\n",
       "        vertical-align: middle;\n",
       "    }\n",
       "\n",
       "    .dataframe tbody tr th {\n",
       "        vertical-align: top;\n",
       "    }\n",
       "\n",
       "    .dataframe thead th {\n",
       "        text-align: right;\n",
       "    }\n",
       "</style>\n",
       "<table border=\"1\" class=\"dataframe\">\n",
       "  <thead>\n",
       "    <tr style=\"text-align: right;\">\n",
       "      <th></th>\n",
       "      <th>Id</th>\n",
       "      <th>Text</th>\n",
       "      <th>Label</th>\n",
       "      <th>Source</th>\n",
       "    </tr>\n",
       "  </thead>\n",
       "  <tbody>\n",
       "    <tr>\n",
       "      <th>17559</th>\n",
       "      <td>facebook_corpus_msr_415140</td>\n",
       "      <td>while Filing IT returns, there is option for Rajiv Gandhi Equity savings scheme. . is there exemption for that ???</td>\n",
       "      <td>NAG</td>\n",
       "      <td>trac2018</td>\n",
       "    </tr>\n",
       "    <tr>\n",
       "      <th>14996</th>\n",
       "      <td>88714</td>\n",
       "      <td>@USER @USER @USER This is the kind of healthcare provision religious conservatives have given America. #SaveOurNHS URL</td>\n",
       "      <td>NOT</td>\n",
       "      <td>OLID-A</td>\n",
       "    </tr>\n",
       "    <tr>\n",
       "      <th>42185</th>\n",
       "      <td>acl26392</td>\n",
       "      <td>I am not trans... and I hate the trans community too, but I still think your an asshole.</td>\n",
       "      <td>hate</td>\n",
       "      <td>vidgen_vua</td>\n",
       "    </tr>\n",
       "    <tr>\n",
       "      <th>30294</th>\n",
       "      <td>acl13872</td>\n",
       "      <td>The Fucking British government is ruining our lives by allowing foreigners to live her and ruin our wonderful society</td>\n",
       "      <td>hate</td>\n",
       "      <td>vidgen_vua</td>\n",
       "    </tr>\n",
       "    <tr>\n",
       "      <th>40044</th>\n",
       "      <td>acl24463</td>\n",
       "      <td>Well then they are even worse than useless and hardly the patriots they pretend to be, lol.</td>\n",
       "      <td>noHate</td>\n",
       "      <td>vidgen_vua</td>\n",
       "    </tr>\n",
       "  </tbody>\n",
       "</table>\n",
       "</div>"
      ],
      "text/plain": [
       "                               Id  \\\n",
       "17559  facebook_corpus_msr_415140   \n",
       "14996                       88714   \n",
       "42185                    acl26392   \n",
       "30294                    acl13872   \n",
       "40044                    acl24463   \n",
       "\n",
       "                                                                                                                         Text  \\\n",
       "17559      while Filing IT returns, there is option for Rajiv Gandhi Equity savings scheme. . is there exemption for that ???   \n",
       "14996  @USER @USER @USER This is the kind of healthcare provision religious conservatives have given America. #SaveOurNHS URL   \n",
       "42185                                I am not trans... and I hate the trans community too, but I still think your an asshole.   \n",
       "30294   The Fucking British government is ruining our lives by allowing foreigners to live her and ruin our wonderful society   \n",
       "40044                             Well then they are even worse than useless and hardly the patriots they pretend to be, lol.   \n",
       "\n",
       "        Label      Source  \n",
       "17559     NAG    trac2018  \n",
       "14996     NOT      OLID-A  \n",
       "42185    hate  vidgen_vua  \n",
       "30294    hate  vidgen_vua  \n",
       "40044  noHate  vidgen_vua  "
      ]
     },
     "execution_count": 30,
     "metadata": {},
     "output_type": "execute_result"
    }
   ],
   "source": [
    "d2_train = pd.read_csv('../pynlp/data/dataset2/trainData.csv', delimiter='\\t')\n",
    "d2_train.sample(5)"
   ]
  }
 ],
 "metadata": {
  "kernelspec": {
   "display_name": "Python 3 (ipykernel)",
   "language": "python",
   "name": "python3"
  },
  "language_info": {
   "codemirror_mode": {
    "name": "ipython",
    "version": 3
   },
   "file_extension": ".py",
   "mimetype": "text/x-python",
   "name": "python",
   "nbconvert_exporter": "python",
   "pygments_lexer": "ipython3",
   "version": "3.7.13"
  }
 },
 "nbformat": 4,
 "nbformat_minor": 5
}
