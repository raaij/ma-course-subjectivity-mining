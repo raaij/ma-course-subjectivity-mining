{
 "cells": [
  {
   "cell_type": "markdown",
   "id": "b9e48cf3",
   "metadata": {},
   "source": [
    "**Warning: Offensive language**"
   ]
  },
  {
   "cell_type": "code",
   "execution_count": 1,
   "id": "dee261cf",
   "metadata": {},
   "outputs": [
    {
     "name": "stderr",
     "output_type": "stream",
     "text": [
      "/home/rutger/miniconda3/envs/pynlp/lib/python3.7/site-packages/sklearn/utils/deprecation.py:143: FutureWarning: The sklearn.metrics.classification module is  deprecated in version 0.22 and will be removed in version 0.24. The corresponding classes / functions should instead be imported from sklearn.metrics. Anything that cannot be imported from sklearn.metrics is now part of the private API.\n",
      "  warnings.warn(message, FutureWarning)\n",
      "2022-09-25 11:39:40.539963: W tensorflow/stream_executor/platform/default/dso_loader.cc:59] Could not load dynamic library 'libcudart.so.10.1'; dlerror: libcudart.so.10.1: cannot open shared object file: No such file or directory\n",
      "2022-09-25 11:39:40.539993: I tensorflow/stream_executor/cuda/cudart_stub.cc:29] Ignore above cudart dlerror if you do not have a GPU set up on your machine.\n"
     ]
    }
   ],
   "source": [
    "from ml_pipeline import experiment"
   ]
  },
  {
   "cell_type": "code",
   "execution_count": 2,
   "id": "144e0542",
   "metadata": {},
   "outputs": [
    {
     "name": "stdout",
     "output_type": "stream",
     "text": [
      ">> Running vua_format experiment\n",
      ">> Loading data...\n",
      ">> retrieving train/data instances...\n",
      ">> training pipeline naive_bayes_counts_lex\n",
      ">> testing...\n",
      ">> evaluation...\n",
      "              precision    recall  f1-score   support\n",
      "\n",
      "         NOT       0.80      0.62      0.70      1972\n",
      "         OFF       0.62      0.81      0.70      1539\n",
      "\n",
      "    accuracy                           0.70      3511\n",
      "   macro avg       0.71      0.71      0.70      3511\n",
      "weighted avg       0.72      0.70      0.70      3511\n",
      "\n"
     ]
    }
   ],
   "source": [
    "pipe = experiment.run(\n",
    "    task_name='vua_format',\n",
    "    data_dir='../pynlp/data/dataset1/',\n",
    "    pipeline_name='naive_bayes_counts_lex',\n",
    "    print_predictions=False\n",
    ")"
   ]
  },
  {
   "cell_type": "code",
   "execution_count": 3,
   "id": "947c25d9",
   "metadata": {},
   "outputs": [],
   "source": [
    "import pandas as pd"
   ]
  },
  {
   "cell_type": "code",
   "execution_count": 4,
   "id": "ed0fe9a4",
   "metadata": {},
   "outputs": [],
   "source": [
    "df_gibert_test = pd.read_csv('../pynlp/data/gibert/testData.csv', delimiter='\\t')"
   ]
  },
  {
   "cell_type": "code",
   "execution_count": 5,
   "id": "c42eb301",
   "metadata": {},
   "outputs": [
    {
     "data": {
      "text/plain": [
       "Pipeline(steps=[('prep',\n",
       "                 <ml_pipeline.preprocessing.Preprocessor object at 0x7f36c9231c90>),\n",
       "                ('frm', CountVectorizer()), ('clf', MultinomialNB())])"
      ]
     },
     "execution_count": 5,
     "metadata": {},
     "output_type": "execute_result"
    }
   ],
   "source": [
    "pipe"
   ]
  },
  {
   "cell_type": "code",
   "execution_count": 6,
   "id": "8559e1e3",
   "metadata": {},
   "outputs": [],
   "source": [
    "prep = pipe['prep']\n",
    "frm = pipe['frm']\n",
    "clf = pipe['clf']"
   ]
  },
  {
   "cell_type": "code",
   "execution_count": 7,
   "id": "6f0166b2",
   "metadata": {},
   "outputs": [],
   "source": [
    "x = df_gibert_test['Text']"
   ]
  },
  {
   "cell_type": "code",
   "execution_count": 8,
   "id": "c62b6576",
   "metadata": {},
   "outputs": [
    {
     "name": "stdout",
     "output_type": "stream",
     "text": [
      "Before processing:\n",
      "I know exactly what you 're saying , I just hate to see those worthless apes benefit from the great things that whites do .\n",
      "\n",
      "\n",
      "After processing:\n",
      "I know exactly what you ' re saying , I just hate to see those worthless hate apes benefit from the great things that whites do .\n"
     ]
    }
   ],
   "source": [
    "res = prep.transform(x)\n",
    "\n",
    "print('Before processing:')\n",
    "print(x[1])\n",
    "print('\\n')\n",
    "print('After processing:')\n",
    "print(res[1])"
   ]
  },
  {
   "cell_type": "markdown",
   "id": "f50f10f0",
   "metadata": {},
   "source": [
    "With a lexicon `hate` is prepended to any token that is found in the lexicon. In this case `apes` is in the lexicon:\n",
    "```\n",
    "Entry;Pos;Label\n",
    "...\n",
    "apes;anypos;hate\n",
    "...\n",
    "```\n",
    "hence \\\n",
    "```...hate to see those worthless apes benefit...``` \\\n",
    "is transformed to  \\\n",
    "```...hate to see those worthless hate apes benefit...```"
   ]
  },
  {
   "cell_type": "code",
   "execution_count": 9,
   "id": "ef160376",
   "metadata": {},
   "outputs": [
    {
     "data": {
      "text/plain": [
       "\"I know exactly what you 're saying , I just hate to see those worthless apes benefit from the great things that whites do .\""
      ]
     },
     "execution_count": 9,
     "metadata": {},
     "output_type": "execute_result"
    }
   ],
   "source": [
    "x[1]"
   ]
  },
  {
   "cell_type": "code",
   "execution_count": 10,
   "id": "8611dbbc",
   "metadata": {
    "scrolled": true
   },
   "outputs": [
    {
     "data": {
      "text/plain": [
       "array(['OFF'], dtype='<U3')"
      ]
     },
     "execution_count": 10,
     "metadata": {},
     "output_type": "execute_result"
    }
   ],
   "source": [
    "pipe.predict([x[1]])"
   ]
  },
  {
   "cell_type": "code",
   "execution_count": 11,
   "id": "e8a72a72",
   "metadata": {},
   "outputs": [],
   "source": [
    "d_train = pd.read_csv('../pynlp/data/dataset1/trainData.csv', delimiter='\\t')"
   ]
  },
  {
   "cell_type": "code",
   "execution_count": 12,
   "id": "3b8175d0",
   "metadata": {},
   "outputs": [
    {
     "data": {
      "text/html": [
       "<div>\n",
       "<style scoped>\n",
       "    .dataframe tbody tr th:only-of-type {\n",
       "        vertical-align: middle;\n",
       "    }\n",
       "\n",
       "    .dataframe tbody tr th {\n",
       "        vertical-align: top;\n",
       "    }\n",
       "\n",
       "    .dataframe thead th {\n",
       "        text-align: right;\n",
       "    }\n",
       "</style>\n",
       "<table border=\"1\" class=\"dataframe\">\n",
       "  <thead>\n",
       "    <tr style=\"text-align: right;\">\n",
       "      <th></th>\n",
       "      <th>text</th>\n",
       "      <th>prediction</th>\n",
       "    </tr>\n",
       "  </thead>\n",
       "  <tbody>\n",
       "    <tr>\n",
       "      <th>0</th>\n",
       "      <td>hate</td>\n",
       "      <td>OFF</td>\n",
       "    </tr>\n",
       "  </tbody>\n",
       "</table>\n",
       "</div>"
      ],
      "text/plain": [
       "   text prediction\n",
       "0  hate        OFF"
      ]
     },
     "execution_count": 12,
     "metadata": {},
     "output_type": "execute_result"
    }
   ],
   "source": [
    "manual_input = [\n",
    "    'hate'\n",
    "]\n",
    "pred = pipe.predict(manual_input)\n",
    "pd.DataFrame({\n",
    "    'text': manual_input,\n",
    "    'prediction': pred\n",
    "})"
   ]
  },
  {
   "cell_type": "markdown",
   "id": "14eae904",
   "metadata": {},
   "source": [
    "As words in our lexicon are prepended with `hate`, any text containing the word `hate` should be much more likely to be predicted as offensive."
   ]
  },
  {
   "cell_type": "code",
   "execution_count": 13,
   "id": "abef49a7",
   "metadata": {},
   "outputs": [
    {
     "data": {
      "text/html": [
       "<div>\n",
       "<style scoped>\n",
       "    .dataframe tbody tr th:only-of-type {\n",
       "        vertical-align: middle;\n",
       "    }\n",
       "\n",
       "    .dataframe tbody tr th {\n",
       "        vertical-align: top;\n",
       "    }\n",
       "\n",
       "    .dataframe thead th {\n",
       "        text-align: right;\n",
       "    }\n",
       "</style>\n",
       "<table border=\"1\" class=\"dataframe\">\n",
       "  <thead>\n",
       "    <tr style=\"text-align: right;\">\n",
       "      <th></th>\n",
       "      <th>Id</th>\n",
       "    </tr>\n",
       "    <tr>\n",
       "      <th>Label</th>\n",
       "      <th></th>\n",
       "    </tr>\n",
       "  </thead>\n",
       "  <tbody>\n",
       "    <tr>\n",
       "      <th>NOT</th>\n",
       "      <td>167</td>\n",
       "    </tr>\n",
       "    <tr>\n",
       "      <th>OFF</th>\n",
       "      <td>289</td>\n",
       "    </tr>\n",
       "  </tbody>\n",
       "</table>\n",
       "</div>"
      ],
      "text/plain": [
       "        Id\n",
       "Label     \n",
       "NOT    167\n",
       "OFF    289"
      ]
     },
     "execution_count": 13,
     "metadata": {},
     "output_type": "execute_result"
    }
   ],
   "source": [
    "d_train[d_train['Text'].str.contains('hate')].groupby('Label')[['Id']].count()"
   ]
  },
  {
   "cell_type": "markdown",
   "id": "0991e267",
   "metadata": {},
   "source": [
    "**Differentiate between token `hate` added with lexicon preprocessor (e.g. add token `[HATE]`), vs. the word `hate`?**"
   ]
  },
  {
   "cell_type": "markdown",
   "id": "1bb03d9d",
   "metadata": {},
   "source": [
    "## `I hate apples` vs. `I hate oranges`"
   ]
  },
  {
   "cell_type": "code",
   "execution_count": 14,
   "id": "98e4ab39",
   "metadata": {},
   "outputs": [
    {
     "data": {
      "text/html": [
       "<div>\n",
       "<style scoped>\n",
       "    .dataframe tbody tr th:only-of-type {\n",
       "        vertical-align: middle;\n",
       "    }\n",
       "\n",
       "    .dataframe tbody tr th {\n",
       "        vertical-align: top;\n",
       "    }\n",
       "\n",
       "    .dataframe thead th {\n",
       "        text-align: right;\n",
       "    }\n",
       "</style>\n",
       "<table border=\"1\" class=\"dataframe\">\n",
       "  <thead>\n",
       "    <tr style=\"text-align: right;\">\n",
       "      <th></th>\n",
       "      <th>text</th>\n",
       "      <th>prediction</th>\n",
       "    </tr>\n",
       "  </thead>\n",
       "  <tbody>\n",
       "    <tr>\n",
       "      <th>0</th>\n",
       "      <td>I hate apples</td>\n",
       "      <td>NOT</td>\n",
       "    </tr>\n",
       "    <tr>\n",
       "      <th>1</th>\n",
       "      <td>I hate oranges</td>\n",
       "      <td>OFF</td>\n",
       "    </tr>\n",
       "  </tbody>\n",
       "</table>\n",
       "</div>"
      ],
      "text/plain": [
       "             text prediction\n",
       "0   I hate apples        NOT\n",
       "1  I hate oranges        OFF"
      ]
     },
     "execution_count": 14,
     "metadata": {},
     "output_type": "execute_result"
    }
   ],
   "source": [
    "manual_input = [\n",
    "    'I hate apples',\n",
    "    'I hate oranges'\n",
    "]\n",
    "pred = pipe.predict(manual_input)\n",
    "\n",
    "pd.DataFrame({\n",
    "    'text': manual_input,\n",
    "    'prediction': pred\n",
    "})"
   ]
  },
  {
   "cell_type": "code",
   "execution_count": 15,
   "id": "52cac157",
   "metadata": {},
   "outputs": [
    {
     "data": {
      "text/html": [
       "<div>\n",
       "<style scoped>\n",
       "    .dataframe tbody tr th:only-of-type {\n",
       "        vertical-align: middle;\n",
       "    }\n",
       "\n",
       "    .dataframe tbody tr th {\n",
       "        vertical-align: top;\n",
       "    }\n",
       "\n",
       "    .dataframe thead th {\n",
       "        text-align: right;\n",
       "    }\n",
       "</style>\n",
       "<table border=\"1\" class=\"dataframe\">\n",
       "  <thead>\n",
       "    <tr style=\"text-align: right;\">\n",
       "      <th>Label</th>\n",
       "      <th>NOT</th>\n",
       "      <th>OFF</th>\n",
       "    </tr>\n",
       "  </thead>\n",
       "  <tbody>\n",
       "    <tr>\n",
       "      <th>Id Apples</th>\n",
       "      <td>5</td>\n",
       "      <td>1</td>\n",
       "    </tr>\n",
       "    <tr>\n",
       "      <th>Id Oranges</th>\n",
       "      <td>1</td>\n",
       "      <td>1</td>\n",
       "    </tr>\n",
       "  </tbody>\n",
       "</table>\n",
       "</div>"
      ],
      "text/plain": [
       "Label       NOT  OFF\n",
       "Id Apples     5    1\n",
       "Id Oranges    1    1"
      ]
     },
     "execution_count": 15,
     "metadata": {},
     "output_type": "execute_result"
    }
   ],
   "source": [
    "stats1 = d_train[d_train['Text'].str.contains('apples')].groupby('Label')[['Id']].count()\n",
    "stats2 = d_train[d_train['Text'].str.contains('oranges')].groupby('Label')[['Id']].count()\n",
    "stats1.join(stats2, lsuffix=' Apples', rsuffix=' Oranges').T"
   ]
  },
  {
   "cell_type": "markdown",
   "id": "03825378",
   "metadata": {},
   "source": [
    "Since there is less training data available containing the word oranges, the model seems to rely on the word `hate` to predict it as `offensive`. For `apples`, more data is available that is not offensive."
   ]
  },
  {
   "cell_type": "markdown",
   "id": "dd4be867",
   "metadata": {},
   "source": [
    "## `I hate apple` vs. `I hate orange`"
   ]
  },
  {
   "cell_type": "code",
   "execution_count": 16,
   "id": "88936ee7",
   "metadata": {},
   "outputs": [
    {
     "data": {
      "text/html": [
       "<div>\n",
       "<style scoped>\n",
       "    .dataframe tbody tr th:only-of-type {\n",
       "        vertical-align: middle;\n",
       "    }\n",
       "\n",
       "    .dataframe tbody tr th {\n",
       "        vertical-align: top;\n",
       "    }\n",
       "\n",
       "    .dataframe thead th {\n",
       "        text-align: right;\n",
       "    }\n",
       "</style>\n",
       "<table border=\"1\" class=\"dataframe\">\n",
       "  <thead>\n",
       "    <tr style=\"text-align: right;\">\n",
       "      <th></th>\n",
       "      <th>text</th>\n",
       "      <th>prediction</th>\n",
       "    </tr>\n",
       "  </thead>\n",
       "  <tbody>\n",
       "    <tr>\n",
       "      <th>0</th>\n",
       "      <td>I hate apple</td>\n",
       "      <td>OFF</td>\n",
       "    </tr>\n",
       "    <tr>\n",
       "      <th>1</th>\n",
       "      <td>I hate orange</td>\n",
       "      <td>OFF</td>\n",
       "    </tr>\n",
       "  </tbody>\n",
       "</table>\n",
       "</div>"
      ],
      "text/plain": [
       "            text prediction\n",
       "0   I hate apple        OFF\n",
       "1  I hate orange        OFF"
      ]
     },
     "execution_count": 16,
     "metadata": {},
     "output_type": "execute_result"
    }
   ],
   "source": [
    "manual_input = [\n",
    "    'I hate apple',\n",
    "    'I hate orange'\n",
    "]\n",
    "pred = pipe.predict(manual_input)\n",
    "\n",
    "pd.DataFrame({\n",
    "    'text': manual_input,\n",
    "    'prediction': pred\n",
    "})"
   ]
  },
  {
   "cell_type": "code",
   "execution_count": 17,
   "id": "fd4725a8",
   "metadata": {},
   "outputs": [
    {
     "data": {
      "text/html": [
       "<div>\n",
       "<style scoped>\n",
       "    .dataframe tbody tr th:only-of-type {\n",
       "        vertical-align: middle;\n",
       "    }\n",
       "\n",
       "    .dataframe tbody tr th {\n",
       "        vertical-align: top;\n",
       "    }\n",
       "\n",
       "    .dataframe thead th {\n",
       "        text-align: right;\n",
       "    }\n",
       "</style>\n",
       "<table border=\"1\" class=\"dataframe\">\n",
       "  <thead>\n",
       "    <tr style=\"text-align: right;\">\n",
       "      <th>Label</th>\n",
       "      <th>NOT</th>\n",
       "      <th>OFF</th>\n",
       "    </tr>\n",
       "  </thead>\n",
       "  <tbody>\n",
       "    <tr>\n",
       "      <th>Id Apple</th>\n",
       "      <td>8</td>\n",
       "      <td>9</td>\n",
       "    </tr>\n",
       "    <tr>\n",
       "      <th>Id Orange</th>\n",
       "      <td>5</td>\n",
       "      <td>5</td>\n",
       "    </tr>\n",
       "  </tbody>\n",
       "</table>\n",
       "</div>"
      ],
      "text/plain": [
       "Label      NOT  OFF\n",
       "Id Apple     8    9\n",
       "Id Orange    5    5"
      ]
     },
     "execution_count": 17,
     "metadata": {},
     "output_type": "execute_result"
    }
   ],
   "source": [
    "stats1 = d_train[d_train['Text'].str.contains('apple')].groupby('Label')[['Id']].count()\n",
    "stats2 = d_train[d_train['Text'].str.contains('orange')].groupby('Label')[['Id']].count()\n",
    "stats1.join(stats2, lsuffix=' Apple', rsuffix=' Orange').T"
   ]
  },
  {
   "cell_type": "markdown",
   "id": "aabb47cc",
   "metadata": {},
   "source": [
    "Plural `apples` is predicted as not offensive, whereas singular `apple` is predicted as offensive. Probably because of more uncertainty.\n",
    "\n",
    "$$\\mathbf{P}(\\text{Hate }|\\text{ text contains 'apples'})=0.2$$\n",
    "$$\\mathbf{P}(\\text{Hate }|\\text{ text contains 'apple'})=0.53$$"
   ]
  },
  {
   "cell_type": "code",
   "execution_count": 18,
   "id": "1c4225c0",
   "metadata": {},
   "outputs": [
    {
     "data": {
      "text/plain": [
       "True"
      ]
     },
     "execution_count": 18,
     "metadata": {},
     "output_type": "execute_result"
    }
   ],
   "source": [
    "import numpy as np \n",
    "\n",
    "np.array_equal(\n",
    "    frm.transform(prep.transform(['I hate apple'])).todense(),\n",
    "    frm.transform(prep.transform(['I hate apple'])).todense()\n",
    ")"
   ]
  },
  {
   "cell_type": "code",
   "execution_count": 19,
   "id": "40043e41",
   "metadata": {},
   "outputs": [
    {
     "data": {
      "text/plain": [
       "False"
      ]
     },
     "execution_count": 19,
     "metadata": {},
     "output_type": "execute_result"
    }
   ],
   "source": [
    "np.array_equal(\n",
    "    frm.transform(prep.transform(['I hate apple'])).todense(),\n",
    "    frm.transform(prep.transform(['I hate apples'])).todense()\n",
    ")"
   ]
  },
  {
   "cell_type": "code",
   "execution_count": 20,
   "id": "78aeaecd",
   "metadata": {},
   "outputs": [
    {
     "data": {
      "text/plain": [
       "dict_items([((0, 2596), 1)])"
      ]
     },
     "execution_count": 20,
     "metadata": {},
     "output_type": "execute_result"
    }
   ],
   "source": [
    "frm.transform(prep.transform(['apple'])).todok().items()"
   ]
  },
  {
   "cell_type": "code",
   "execution_count": 21,
   "id": "66db0115",
   "metadata": {},
   "outputs": [
    {
     "data": {
      "text/plain": [
       "dict_items([((0, 2598), 1)])"
      ]
     },
     "execution_count": 21,
     "metadata": {},
     "output_type": "execute_result"
    }
   ],
   "source": [
    "frm.transform(prep.transform(['apples'])).todok().items()"
   ]
  },
  {
   "cell_type": "markdown",
   "id": "4c9ed4fe",
   "metadata": {},
   "source": [
    "2 tokens in corpus for `apple` and `apples`. **Maybe use subword tokenizer?**"
   ]
  }
 ],
 "metadata": {
  "kernelspec": {
   "display_name": "Python 3 (ipykernel)",
   "language": "python",
   "name": "python3"
  },
  "language_info": {
   "codemirror_mode": {
    "name": "ipython",
    "version": 3
   },
   "file_extension": ".py",
   "mimetype": "text/x-python",
   "name": "python",
   "nbconvert_exporter": "python",
   "pygments_lexer": "ipython3",
   "version": "3.7.13"
  }
 },
 "nbformat": 4,
 "nbformat_minor": 5
}
