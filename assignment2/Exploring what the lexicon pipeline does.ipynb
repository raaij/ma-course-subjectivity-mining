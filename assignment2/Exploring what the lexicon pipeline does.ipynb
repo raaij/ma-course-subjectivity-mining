{
 "cells": [
  {
   "cell_type": "markdown",
   "id": "830f8ccf",
   "metadata": {},
   "source": [
    "**Warning: Offensive language**"
   ]
  },
  {
   "cell_type": "code",
   "execution_count": 1,
   "id": "dee261cf",
   "metadata": {},
   "outputs": [
    {
     "name": "stderr",
     "output_type": "stream",
     "text": [
      "/home/rutger/miniconda3/envs/pynlp/lib/python3.7/site-packages/sklearn/utils/deprecation.py:143: FutureWarning: The sklearn.metrics.classification module is  deprecated in version 0.22 and will be removed in version 0.24. The corresponding classes / functions should instead be imported from sklearn.metrics. Anything that cannot be imported from sklearn.metrics is now part of the private API.\n",
      "  warnings.warn(message, FutureWarning)\n",
      "2022-09-25 09:12:17.402407: W tensorflow/stream_executor/platform/default/dso_loader.cc:59] Could not load dynamic library 'libcudart.so.10.1'; dlerror: libcudart.so.10.1: cannot open shared object file: No such file or directory\n",
      "2022-09-25 09:12:17.402446: I tensorflow/stream_executor/cuda/cudart_stub.cc:29] Ignore above cudart dlerror if you do not have a GPU set up on your machine.\n"
     ]
    }
   ],
   "source": [
    "from ml_pipeline import experiment"
   ]
  },
  {
   "cell_type": "code",
   "execution_count": 2,
   "id": "9bbded0a",
   "metadata": {},
   "outputs": [
    {
     "name": "stdout",
     "output_type": "stream",
     "text": [
      ">> Running vua_format experiment\n",
      ">> Loading data...\n",
      ">> retrieving train/data instances...\n",
      ">> training pipeline naive_bayes_counts_lex\n",
      ">> testing...\n",
      ">> evaluation...\n",
      "              precision    recall  f1-score   support\n",
      "\n",
      "         NOT       0.80      0.62      0.70      1972\n",
      "         OFF       0.62      0.81      0.70      1539\n",
      "\n",
      "    accuracy                           0.70      3511\n",
      "   macro avg       0.71      0.71      0.70      3511\n",
      "weighted avg       0.72      0.70      0.70      3511\n",
      "\n"
     ]
    }
   ],
   "source": [
    "res = experiment.run(\n",
    "    task_name='vua_format',\n",
    "    data_dir='../pynlp/data/dataset1/',\n",
    "    pipeline_name='naive_bayes_counts_lex',\n",
    "    print_predictions=False\n",
    ")"
   ]
  },
  {
   "cell_type": "code",
   "execution_count": 3,
   "id": "017a3d57",
   "metadata": {},
   "outputs": [],
   "source": [
    "import pandas as pd"
   ]
  },
  {
   "cell_type": "code",
   "execution_count": 4,
   "id": "1febbb1d",
   "metadata": {},
   "outputs": [],
   "source": [
    "df_gibert_test = pd.read_csv('../pynlp/data/gibert/testData.csv', delimiter='\\t')"
   ]
  },
  {
   "cell_type": "code",
   "execution_count": 5,
   "id": "a222b37d",
   "metadata": {},
   "outputs": [
    {
     "data": {
      "text/plain": [
       "Pipeline(steps=[('prep',\n",
       "                 <ml_pipeline.preprocessing.Preprocessor object at 0x7fe7bc046490>),\n",
       "                ('frm', CountVectorizer()), ('clf', MultinomialNB())])"
      ]
     },
     "execution_count": 5,
     "metadata": {},
     "output_type": "execute_result"
    }
   ],
   "source": [
    "res"
   ]
  },
  {
   "cell_type": "code",
   "execution_count": 6,
   "id": "261a7530",
   "metadata": {},
   "outputs": [],
   "source": [
    "prep = res['prep']\n",
    "frm = res['frm']\n",
    "clf = res['clf']"
   ]
  },
  {
   "cell_type": "code",
   "execution_count": 49,
   "id": "3663a5ac",
   "metadata": {},
   "outputs": [],
   "source": [
    "x = df_gibert_test['Text']"
   ]
  },
  {
   "cell_type": "code",
   "execution_count": 52,
   "id": "92912355",
   "metadata": {},
   "outputs": [
    {
     "name": "stdout",
     "output_type": "stream",
     "text": [
      "Before processing:\n",
      "I know exactly what you 're saying , I just hate to see those worthless apes benefit from the great things that whites do .\n",
      "\n",
      "\n",
      "After processing:\n",
      "I know exactly what you ' re saying , I just hate to see those worthless hate apes benefit from the great things that whites do .\n"
     ]
    }
   ],
   "source": [
    "res = prep.transform(x)\n",
    "\n",
    "print('Before processing:')\n",
    "print(x[1])\n",
    "print('\\n')\n",
    "print('After processing:')\n",
    "print(res[1])"
   ]
  },
  {
   "cell_type": "markdown",
   "id": "f0f15751",
   "metadata": {},
   "source": [
    "With a lexicon `hate` is prepended to any token that is found in the lexicon. In this case `apes` is in the lexicon:\n",
    "```\n",
    "Entry;Pos;Label\n",
    "...\n",
    "apes;anypos;hate\n",
    "...\n",
    "```\n",
    "hence \\\n",
    "```...hate to see those worthless apes benefit...``` \\\n",
    "is transformed to  \\\n",
    "```...hate to see those worthless hate apes benefit...```"
   ]
  }
 ],
 "metadata": {
  "kernelspec": {
   "display_name": "Python 3 (ipykernel)",
   "language": "python",
   "name": "python3"
  },
  "language_info": {
   "codemirror_mode": {
    "name": "ipython",
    "version": 3
   },
   "file_extension": ".py",
   "mimetype": "text/x-python",
   "name": "python",
   "nbconvert_exporter": "python",
   "pygments_lexer": "ipython3",
   "version": "3.7.13"
  }
 },
 "nbformat": 4,
 "nbformat_minor": 5
}
