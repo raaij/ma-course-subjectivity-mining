{
 "cells": [
  {
   "cell_type": "code",
   "execution_count": 1,
   "id": "59ff9143",
   "metadata": {},
   "outputs": [],
   "source": [
    "import pandas as pd"
   ]
  },
  {
   "cell_type": "code",
   "execution_count": 4,
   "id": "73b1cec6",
   "metadata": {},
   "outputs": [],
   "source": [
    "d1_train, d1_test = (\n",
    "    pd.read_csv(f'../pynlp/data/dataset1/{split}Data.csv', delimiter='\\t')\n",
    "    for split in ['train', 'test']\n",
    ")\n",
    "d2_train, d2_test = (\n",
    "    pd.read_csv(f'../pynlp/data/dataset2/{split}Data.csv', delimiter='\\t')\n",
    "    for split in ['train', 'test']\n",
    ")"
   ]
  },
  {
   "cell_type": "code",
   "execution_count": 8,
   "id": "2d8f0d50",
   "metadata": {},
   "outputs": [
    {
     "data": {
      "text/html": [
       "<div>\n",
       "<style scoped>\n",
       "    .dataframe tbody tr th:only-of-type {\n",
       "        vertical-align: middle;\n",
       "    }\n",
       "\n",
       "    .dataframe tbody tr th {\n",
       "        vertical-align: top;\n",
       "    }\n",
       "\n",
       "    .dataframe thead th {\n",
       "        text-align: right;\n",
       "    }\n",
       "</style>\n",
       "<table border=\"1\" class=\"dataframe\">\n",
       "  <thead>\n",
       "    <tr style=\"text-align: right;\">\n",
       "      <th></th>\n",
       "      <th>Id</th>\n",
       "    </tr>\n",
       "    <tr>\n",
       "      <th>Label</th>\n",
       "      <th></th>\n",
       "    </tr>\n",
       "  </thead>\n",
       "  <tbody>\n",
       "    <tr>\n",
       "      <th>CAG</th>\n",
       "      <td>4240</td>\n",
       "    </tr>\n",
       "    <tr>\n",
       "      <th>NAG</th>\n",
       "      <td>5051</td>\n",
       "    </tr>\n",
       "    <tr>\n",
       "      <th>NOT</th>\n",
       "      <td>8840</td>\n",
       "    </tr>\n",
       "    <tr>\n",
       "      <th>OAG</th>\n",
       "      <td>2708</td>\n",
       "    </tr>\n",
       "    <tr>\n",
       "      <th>OFF</th>\n",
       "      <td>4400</td>\n",
       "    </tr>\n",
       "    <tr>\n",
       "      <th>hate</th>\n",
       "      <td>18695</td>\n",
       "    </tr>\n",
       "    <tr>\n",
       "      <th>noHate</th>\n",
       "      <td>16139</td>\n",
       "    </tr>\n",
       "  </tbody>\n",
       "</table>\n",
       "</div>"
      ],
      "text/plain": [
       "           Id\n",
       "Label        \n",
       "CAG      4240\n",
       "NAG      5051\n",
       "NOT      8840\n",
       "OAG      2708\n",
       "OFF      4400\n",
       "hate    18695\n",
       "noHate  16139"
      ]
     },
     "execution_count": 8,
     "metadata": {},
     "output_type": "execute_result"
    }
   ],
   "source": [
    "d2_train.groupby('Label')[['Id']].count()"
   ]
  },
  {
   "cell_type": "markdown",
   "id": "4c03ec45",
   "metadata": {},
   "source": [
    "As both dataset 1 and dataset 2 are a combination of datasets annotated with different annotation schemes, some way to reconcile these different labels into a single annotation scheme is required. Consider for example, a non-offensive text '*I enjoy cycling*'. With the labels currently in place, all of `NAG`, `NOT` and `noHate` apply to this text, but only 1 would be 'correct'. Hence the following reconciliation scheme is used:"
   ]
  },
  {
   "attachments": {
    "image.png": {
     "image/png": "[encoded data removed]"
    }
   },
   "cell_type": "markdown",
   "id": "8ede7f22",
   "metadata": {},
   "source": [
    "![image.png](attachment:image.png)"
   ]
  },
  {
   "cell_type": "markdown",
   "id": "39c86eaf",
   "metadata": {},
   "source": [
    "This essentially maps the labels to those proposed in Zampieri et al."
   ]
  },
  {
   "cell_type": "code",
   "execution_count": 17,
   "id": "333dcac1",
   "metadata": {},
   "outputs": [],
   "source": [
    "for i, (d_train, d_test) in enumerate([\n",
    "    (d1_train, d1_test),\n",
    "    (d2_train, d2_test)\n",
    "]):\n",
    "    for d in [d_train, d_test]:\n",
    "        d['Label'] = d['Label'].replace({\n",
    "            'CAG': 'OFF',\n",
    "            'OAG': 'OFF',\n",
    "            'OFF': 'OFF',\n",
    "            'hate': 'OFF',\n",
    "            'NAG': 'NOT',\n",
    "            'noHate': 'NOT',\n",
    "            'NOT': 'NOT'\n",
    "        })\n",
    "    \n",
    "    d_train.to_csv(f'../pynlp/data/dataset{i+1}/trainData.csv', sep='\\t', index=False)\n",
    "    d_test.to_csv(f'../pynlp/data/dataset{i+1}/testData.csv', sep='\\t', index=False)"
   ]
  }
 ],
 "metadata": {
  "kernelspec": {
   "display_name": "Python 3 (ipykernel)",
   "language": "python",
   "name": "python3"
  },
  "language_info": {
   "codemirror_mode": {
    "name": "ipython",
    "version": 3
   },
   "file_extension": ".py",
   "mimetype": "text/x-python",
   "name": "python",
   "nbconvert_exporter": "python",
   "pygments_lexer": "ipython3",
   "version": "3.7.13"
  }
 },
 "nbformat": 4,
 "nbformat_minor": 5
}
