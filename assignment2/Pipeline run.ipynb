{
 "cells": [
  {
   "cell_type": "code",
   "execution_count": 3,
   "id": "c939603b",
   "metadata": {
    "scrolled": true
   },
   "outputs": [],
   "source": [
    "from ml_pipeline import experiment"
   ]
  },
  {
   "cell_type": "code",
   "execution_count": 2,
   "id": "fa27b533",
   "metadata": {},
   "outputs": [
    {
     "name": "stdout",
     "output_type": "stream",
     "text": [
      ">> Running vua_format experiment\n",
      ">> Loading data...\n",
      ">> retrieving train/data instances...\n",
      ">> training pipeline naive_bayes_counts\n",
      ">> testing...\n",
      ">> evaluation...\n",
      "              precision    recall  f1-score   support\n",
      "\n",
      "        hate       0.64      0.91      0.75       239\n",
      "      noHate       0.84      0.48      0.61       239\n",
      "\n",
      "    accuracy                           0.69       478\n",
      "   macro avg       0.74      0.69      0.68       478\n",
      "weighted avg       0.74      0.69      0.68       478\n",
      "\n"
     ]
    }
   ],
   "source": [
    "experiment.run(\n",
    "    task_name='vua_format',\n",
    "    data_dir='../pynlp/data/gibert/',\n",
    "    pipeline_name='naive_bayes_counts',\n",
    "    print_predictions=False\n",
    ")"
   ]
  }
 ],
 "metadata": {
  "kernelspec": {
   "display_name": "Python 3 (ipykernel)",
   "language": "python",
   "name": "python3"
  },
  "language_info": {
   "codemirror_mode": {
    "name": "ipython",
    "version": 3
   },
   "file_extension": ".py",
   "mimetype": "text/x-python",
   "name": "python",
   "nbconvert_exporter": "python",
   "pygments_lexer": "ipython3",
   "version": "3.7.13"
  }
 },
 "nbformat": 4,
 "nbformat_minor": 5
}
