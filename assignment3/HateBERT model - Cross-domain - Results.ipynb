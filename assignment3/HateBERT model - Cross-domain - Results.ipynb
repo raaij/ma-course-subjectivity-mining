{
 "cells": [
  {
   "cell_type": "code",
   "execution_count": 1,
   "id": "c0201102",
   "metadata": {},
   "outputs": [],
   "source": [
    "from pathlib import Path"
   ]
  },
  {
   "cell_type": "code",
   "execution_count": 2,
   "id": "d319b2d8",
   "metadata": {},
   "outputs": [
    {
     "name": "stdout",
     "output_type": "stream",
     "text": [
      "Requirement already satisfied: simpletransformers in c:\\users\\popil\\anaconda3\\lib\\site-packages (0.63.9)\n",
      "Requirement already satisfied: tensorboard in c:\\users\\popil\\anaconda3\\lib\\site-packages (from simpletransformers) (2.10.0)\n",
      "Requirement already satisfied: scipy in c:\\users\\popil\\anaconda3\\lib\\site-packages (from simpletransformers) (1.7.1)\n",
      "Requirement already satisfied: sentencepiece in c:\\users\\popil\\anaconda3\\lib\\site-packages (from simpletransformers) (0.1.97)\n",
      "Requirement already satisfied: scikit-learn in c:\\users\\popil\\anaconda3\\lib\\site-packages (from simpletransformers) (1.1.2)\n",
      "Requirement already satisfied: seqeval in c:\\users\\popil\\anaconda3\\lib\\site-packages (from simpletransformers) (1.2.2)\n",
      "Requirement already satisfied: streamlit in c:\\users\\popil\\anaconda3\\lib\\site-packages (from simpletransformers) (1.12.0)\n",
      "Requirement already satisfied: pandas in c:\\users\\popil\\anaconda3\\lib\\site-packages (from simpletransformers) (1.3.4)\n",
      "Requirement already satisfied: numpy in c:\\users\\popil\\anaconda3\\lib\\site-packages (from simpletransformers) (1.20.3)\n",
      "Requirement already satisfied: tqdm>=4.47.0 in c:\\users\\popil\\anaconda3\\lib\\site-packages (from simpletransformers) (4.62.3)\n",
      "Requirement already satisfied: requests in c:\\users\\popil\\anaconda3\\lib\\site-packages (from simpletransformers) (2.26.0)\n",
      "Requirement already satisfied: tokenizers in c:\\users\\popil\\anaconda3\\lib\\site-packages (from simpletransformers) (0.12.1)\n",
      "Requirement already satisfied: regex in c:\\users\\popil\\anaconda3\\lib\\site-packages (from simpletransformers) (2021.8.3)\n",
      "Requirement already satisfied: datasets in c:\\users\\popil\\anaconda3\\lib\\site-packages (from simpletransformers) (2.5.1)\n",
      "Requirement already satisfied: wandb>=0.10.32 in c:\\users\\popil\\anaconda3\\lib\\site-packages (from simpletransformers) (0.13.3)\n",
      "Requirement already satisfied: transformers>=4.6.0 in c:\\users\\popil\\anaconda3\\lib\\site-packages (from simpletransformers) (4.22.2)\n",
      "Requirement already satisfied: colorama in c:\\users\\popil\\anaconda3\\lib\\site-packages (from tqdm>=4.47.0->simpletransformers) (0.4.4)\n",
      "Requirement already satisfied: filelock in c:\\users\\popil\\anaconda3\\lib\\site-packages (from transformers>=4.6.0->simpletransformers) (3.3.1)\n",
      "Requirement already satisfied: packaging>=20.0 in c:\\users\\popil\\anaconda3\\lib\\site-packages (from transformers>=4.6.0->simpletransformers) (21.0)\n",
      "Requirement already satisfied: huggingface-hub<1.0,>=0.9.0 in c:\\users\\popil\\anaconda3\\lib\\site-packages (from transformers>=4.6.0->simpletransformers) (0.10.0)\n",
      "Requirement already satisfied: pyyaml>=5.1 in c:\\users\\popil\\anaconda3\\lib\\site-packages (from transformers>=4.6.0->simpletransformers) (6.0)\n",
      "Requirement already satisfied: typing-extensions>=3.7.4.3 in c:\\users\\popil\\anaconda3\\lib\\site-packages (from huggingface-hub<1.0,>=0.9.0->transformers>=4.6.0->simpletransformers) (3.10.0.2)\n",
      "Requirement already satisfied: pyparsing>=2.0.2 in c:\\users\\popil\\anaconda3\\lib\\site-packages (from packaging>=20.0->transformers>=4.6.0->simpletransformers) (3.0.4)\n",
      "Requirement already satisfied: docker-pycreds>=0.4.0 in c:\\users\\popil\\anaconda3\\lib\\site-packages (from wandb>=0.10.32->simpletransformers) (0.4.0)\n",
      "Requirement already satisfied: sentry-sdk>=1.0.0 in c:\\users\\popil\\anaconda3\\lib\\site-packages (from wandb>=0.10.32->simpletransformers) (1.9.9)\n",
      "Requirement already satisfied: setuptools in c:\\users\\popil\\anaconda3\\lib\\site-packages (from wandb>=0.10.32->simpletransformers) (58.0.4)\n",
      "Requirement already satisfied: shortuuid>=0.5.0 in c:\\users\\popil\\anaconda3\\lib\\site-packages (from wandb>=0.10.32->simpletransformers) (1.0.9)\n",
      "Requirement already satisfied: Click!=8.0.0,>=7.0 in c:\\users\\popil\\anaconda3\\lib\\site-packages (from wandb>=0.10.32->simpletransformers) (8.0.3)\n",
      "Requirement already satisfied: psutil>=5.0.0 in c:\\users\\popil\\anaconda3\\lib\\site-packages (from wandb>=0.10.32->simpletransformers) (5.8.0)\n",
      "Requirement already satisfied: GitPython>=1.0.0 in c:\\users\\popil\\anaconda3\\lib\\site-packages (from wandb>=0.10.32->simpletransformers) (3.1.27)\n",
      "Requirement already satisfied: protobuf<4.0dev,>=3.12.0 in c:\\users\\popil\\anaconda3\\lib\\site-packages (from wandb>=0.10.32->simpletransformers) (3.19.5)\n",
      "Requirement already satisfied: setproctitle in c:\\users\\popil\\anaconda3\\lib\\site-packages (from wandb>=0.10.32->simpletransformers) (1.3.2)\n",
      "Requirement already satisfied: promise<3,>=2.0 in c:\\users\\popil\\anaconda3\\lib\\site-packages (from wandb>=0.10.32->simpletransformers) (2.3)\n",
      "Requirement already satisfied: pathtools in c:\\users\\popil\\anaconda3\\lib\\site-packages (from wandb>=0.10.32->simpletransformers) (0.1.2)\n",
      "Requirement already satisfied: six>=1.13.0 in c:\\users\\popil\\anaconda3\\lib\\site-packages (from wandb>=0.10.32->simpletransformers) (1.16.0)\n",
      "Requirement already satisfied: gitdb<5,>=4.0.1 in c:\\users\\popil\\anaconda3\\lib\\site-packages (from GitPython>=1.0.0->wandb>=0.10.32->simpletransformers) (4.0.9)\n",
      "Requirement already satisfied: smmap<6,>=3.0.1 in c:\\users\\popil\\anaconda3\\lib\\site-packages (from gitdb<5,>=4.0.1->GitPython>=1.0.0->wandb>=0.10.32->simpletransformers) (5.0.0)\n",
      "Requirement already satisfied: charset-normalizer~=2.0.0 in c:\\users\\popil\\anaconda3\\lib\\site-packages (from requests->simpletransformers) (2.0.4)\n",
      "Requirement already satisfied: urllib3<1.27,>=1.21.1 in c:\\users\\popil\\anaconda3\\lib\\site-packages (from requests->simpletransformers) (1.26.12)\n",
      "Requirement already satisfied: certifi>=2017.4.17 in c:\\users\\popil\\anaconda3\\lib\\site-packages (from requests->simpletransformers) (2021.10.8)\n",
      "Requirement already satisfied: idna<4,>=2.5 in c:\\users\\popil\\anaconda3\\lib\\site-packages (from requests->simpletransformers) (3.2)\n",
      "Requirement already satisfied: dill<0.3.6 in c:\\users\\popil\\anaconda3\\lib\\site-packages (from datasets->simpletransformers) (0.3.5.1)\n",
      "Requirement already satisfied: responses<0.19 in c:\\users\\popil\\anaconda3\\lib\\site-packages (from datasets->simpletransformers) (0.18.0)\n",
      "Requirement already satisfied: xxhash in c:\\users\\popil\\anaconda3\\lib\\site-packages (from datasets->simpletransformers) (3.0.0)\n",
      "Requirement already satisfied: pyarrow>=6.0.0 in c:\\users\\popil\\anaconda3\\lib\\site-packages (from datasets->simpletransformers) (9.0.0)\n",
      "Requirement already satisfied: aiohttp in c:\\users\\popil\\anaconda3\\lib\\site-packages (from datasets->simpletransformers) (3.8.3)\n",
      "Requirement already satisfied: fsspec[http]>=2021.11.1 in c:\\users\\popil\\anaconda3\\lib\\site-packages (from datasets->simpletransformers) (2022.8.2)\n",
      "Requirement already satisfied: multiprocess in c:\\users\\popil\\anaconda3\\lib\\site-packages (from datasets->simpletransformers) (0.70.13)\n",
      "Requirement already satisfied: aiosignal>=1.1.2 in c:\\users\\popil\\anaconda3\\lib\\site-packages (from aiohttp->datasets->simpletransformers) (1.2.0)\n",
      "Requirement already satisfied: yarl<2.0,>=1.0 in c:\\users\\popil\\anaconda3\\lib\\site-packages (from aiohttp->datasets->simpletransformers) (1.8.1)\n",
      "Requirement already satisfied: multidict<7.0,>=4.5 in c:\\users\\popil\\anaconda3\\lib\\site-packages (from aiohttp->datasets->simpletransformers) (6.0.2)\n",
      "Requirement already satisfied: attrs>=17.3.0 in c:\\users\\popil\\anaconda3\\lib\\site-packages (from aiohttp->datasets->simpletransformers) (21.2.0)\n",
      "Requirement already satisfied: async-timeout<5.0,>=4.0.0a3 in c:\\users\\popil\\anaconda3\\lib\\site-packages (from aiohttp->datasets->simpletransformers) (4.0.2)\n",
      "Requirement already satisfied: frozenlist>=1.1.1 in c:\\users\\popil\\anaconda3\\lib\\site-packages (from aiohttp->datasets->simpletransformers) (1.3.1)\n",
      "Requirement already satisfied: pytz>=2017.3 in c:\\users\\popil\\anaconda3\\lib\\site-packages (from pandas->simpletransformers) (2021.3)\n",
      "Requirement already satisfied: python-dateutil>=2.7.3 in c:\\users\\popil\\anaconda3\\lib\\site-packages (from pandas->simpletransformers) (2.8.2)\n",
      "Requirement already satisfied: joblib>=1.0.0 in c:\\users\\popil\\anaconda3\\lib\\site-packages (from scikit-learn->simpletransformers) (1.1.0)\n",
      "Requirement already satisfied: threadpoolctl>=2.0.0 in c:\\users\\popil\\anaconda3\\lib\\site-packages (from scikit-learn->simpletransformers) (2.2.0)\n",
      "Requirement already satisfied: pympler>=0.9 in c:\\users\\popil\\anaconda3\\lib\\site-packages (from streamlit->simpletransformers) (1.0.1)\n",
      "Requirement already satisfied: pillow>=6.2.0 in c:\\users\\popil\\anaconda3\\lib\\site-packages (from streamlit->simpletransformers) (8.4.0)\n",
      "Requirement already satisfied: tzlocal>=1.1 in c:\\users\\popil\\anaconda3\\lib\\site-packages (from streamlit->simpletransformers) (4.2)\n",
      "Requirement already satisfied: tornado>=5.0 in c:\\users\\popil\\anaconda3\\lib\\site-packages (from streamlit->simpletransformers) (6.1)\n",
      "Requirement already satisfied: importlib-metadata>=1.4 in c:\\users\\popil\\anaconda3\\lib\\site-packages (from streamlit->simpletransformers) (4.8.1)\n",
      "Requirement already satisfied: pydeck>=0.1.dev5 in c:\\users\\popil\\anaconda3\\lib\\site-packages (from streamlit->simpletransformers) (0.8.0b3)\n",
      "Requirement already satisfied: validators>=0.2 in c:\\users\\popil\\anaconda3\\lib\\site-packages (from streamlit->simpletransformers) (0.20.0)\n",
      "Requirement already satisfied: blinker>=1.0.0 in c:\\users\\popil\\anaconda3\\lib\\site-packages (from streamlit->simpletransformers) (1.5)\n",
      "Requirement already satisfied: toml in c:\\users\\popil\\anaconda3\\lib\\site-packages (from streamlit->simpletransformers) (0.10.2)\n",
      "Requirement already satisfied: semver in c:\\users\\popil\\anaconda3\\lib\\site-packages (from streamlit->simpletransformers) (2.13.0)\n",
      "Requirement already satisfied: altair>=3.2.0 in c:\\users\\popil\\anaconda3\\lib\\site-packages (from streamlit->simpletransformers) (4.2.0)\n",
      "Requirement already satisfied: rich>=10.11.0 in c:\\users\\popil\\anaconda3\\lib\\site-packages (from streamlit->simpletransformers) (12.6.0)\n",
      "Requirement already satisfied: watchdog in c:\\users\\popil\\anaconda3\\lib\\site-packages (from streamlit->simpletransformers) (2.1.3)\n",
      "Requirement already satisfied: cachetools>=4.0 in c:\\users\\popil\\anaconda3\\lib\\site-packages (from streamlit->simpletransformers) (5.2.0)\n",
      "Requirement already satisfied: toolz in c:\\users\\popil\\anaconda3\\lib\\site-packages (from altair>=3.2.0->streamlit->simpletransformers) (0.11.1)\n",
      "Requirement already satisfied: jsonschema>=3.0 in c:\\users\\popil\\anaconda3\\lib\\site-packages (from altair>=3.2.0->streamlit->simpletransformers) (3.2.0)\n",
      "Requirement already satisfied: jinja2 in c:\\users\\popil\\anaconda3\\lib\\site-packages (from altair>=3.2.0->streamlit->simpletransformers) (2.11.3)\n",
      "Requirement already satisfied: entrypoints in c:\\users\\popil\\anaconda3\\lib\\site-packages (from altair>=3.2.0->streamlit->simpletransformers) (0.3)\n",
      "Requirement already satisfied: zipp>=0.5 in c:\\users\\popil\\anaconda3\\lib\\site-packages (from importlib-metadata>=1.4->streamlit->simpletransformers) (3.6.0)\n",
      "Requirement already satisfied: pyrsistent>=0.14.0 in c:\\users\\popil\\anaconda3\\lib\\site-packages (from jsonschema>=3.0->altair>=3.2.0->streamlit->simpletransformers) (0.18.0)\n",
      "Requirement already satisfied: MarkupSafe>=0.23 in c:\\users\\popil\\anaconda3\\lib\\site-packages (from jinja2->altair>=3.2.0->streamlit->simpletransformers) (1.1.1)\n",
      "Requirement already satisfied: commonmark<0.10.0,>=0.9.0 in c:\\users\\popil\\anaconda3\\lib\\site-packages (from rich>=10.11.0->streamlit->simpletransformers) (0.9.1)\n",
      "Requirement already satisfied: pygments<3.0.0,>=2.6.0 in c:\\users\\popil\\anaconda3\\lib\\site-packages (from rich>=10.11.0->streamlit->simpletransformers) (2.10.0)\n",
      "Requirement already satisfied: tzdata in c:\\users\\popil\\anaconda3\\lib\\site-packages (from tzlocal>=1.1->streamlit->simpletransformers) (2022.4)\n",
      "Requirement already satisfied: pytz-deprecation-shim in c:\\users\\popil\\anaconda3\\lib\\site-packages (from tzlocal>=1.1->streamlit->simpletransformers) (0.1.0.post0)\n",
      "Requirement already satisfied: decorator>=3.4.0 in c:\\users\\popil\\anaconda3\\lib\\site-packages (from validators>=0.2->streamlit->simpletransformers) (5.1.0)\n",
      "Requirement already satisfied: tensorboard-plugin-wit>=1.6.0 in c:\\users\\popil\\anaconda3\\lib\\site-packages (from tensorboard->simpletransformers) (1.8.1)\n",
      "Requirement already satisfied: grpcio>=1.24.3 in c:\\users\\popil\\anaconda3\\lib\\site-packages (from tensorboard->simpletransformers) (1.49.0)\n",
      "Requirement already satisfied: wheel>=0.26 in c:\\users\\popil\\anaconda3\\lib\\site-packages (from tensorboard->simpletransformers) (0.37.0)\n",
      "Requirement already satisfied: werkzeug>=1.0.1 in c:\\users\\popil\\anaconda3\\lib\\site-packages (from tensorboard->simpletransformers) (2.0.2)\n",
      "Requirement already satisfied: markdown>=2.6.8 in c:\\users\\popil\\anaconda3\\lib\\site-packages (from tensorboard->simpletransformers) (3.4.1)\n",
      "Requirement already satisfied: google-auth<3,>=1.6.3 in c:\\users\\popil\\anaconda3\\lib\\site-packages (from tensorboard->simpletransformers) (2.11.0)\n",
      "Requirement already satisfied: absl-py>=0.4 in c:\\users\\popil\\anaconda3\\lib\\site-packages (from tensorboard->simpletransformers) (1.2.0)\n",
      "Requirement already satisfied: google-auth-oauthlib<0.5,>=0.4.1 in c:\\users\\popil\\anaconda3\\lib\\site-packages (from tensorboard->simpletransformers) (0.4.6)\n",
      "Requirement already satisfied: tensorboard-data-server<0.7.0,>=0.6.0 in c:\\users\\popil\\anaconda3\\lib\\site-packages (from tensorboard->simpletransformers) (0.6.1)\n",
      "Requirement already satisfied: rsa<5,>=3.1.4 in c:\\users\\popil\\anaconda3\\lib\\site-packages (from google-auth<3,>=1.6.3->tensorboard->simpletransformers) (4.9)\n",
      "Requirement already satisfied: pyasn1-modules>=0.2.1 in c:\\users\\popil\\anaconda3\\lib\\site-packages (from google-auth<3,>=1.6.3->tensorboard->simpletransformers) (0.2.8)\n",
      "Requirement already satisfied: requests-oauthlib>=0.7.0 in c:\\users\\popil\\anaconda3\\lib\\site-packages (from google-auth-oauthlib<0.5,>=0.4.1->tensorboard->simpletransformers) (1.3.1)\n",
      "Requirement already satisfied: pyasn1<0.5.0,>=0.4.6 in c:\\users\\popil\\anaconda3\\lib\\site-packages (from pyasn1-modules>=0.2.1->google-auth<3,>=1.6.3->tensorboard->simpletransformers) (0.4.8)\n",
      "Requirement already satisfied: oauthlib>=3.0.0 in c:\\users\\popil\\anaconda3\\lib\\site-packages (from requests-oauthlib>=0.7.0->google-auth-oauthlib<0.5,>=0.4.1->tensorboard->simpletransformers) (3.2.1)\n"
     ]
    }
   ],
   "source": [
    "!pip install simpletransformers"
   ]
  },
  {
   "cell_type": "code",
   "execution_count": 3,
   "id": "51fc4bc4",
   "metadata": {},
   "outputs": [
    {
     "name": "stderr",
     "output_type": "stream",
     "text": [
      "Some weights of the model checkpoint at GroNLP/hateBERT were not used when initializing BertForSequenceClassification: ['cls.predictions.decoder.bias', 'cls.predictions.decoder.weight', 'cls.predictions.transform.LayerNorm.bias', 'cls.predictions.transform.LayerNorm.weight', 'cls.predictions.transform.dense.weight', 'cls.predictions.bias', 'cls.predictions.transform.dense.bias']\n",
      "- This IS expected if you are initializing BertForSequenceClassification from the checkpoint of a model trained on another task or with another architecture (e.g. initializing a BertForSequenceClassification model from a BertForPreTraining model).\n",
      "- This IS NOT expected if you are initializing BertForSequenceClassification from the checkpoint of a model that you expect to be exactly identical (initializing a BertForSequenceClassification model from a BertForSequenceClassification model).\n",
      "Some weights of BertForSequenceClassification were not initialized from the model checkpoint at GroNLP/hateBERT and are newly initialized: ['classifier.bias', 'classifier.weight']\n",
      "You should probably TRAIN this model on a down-stream task to be able to use it for predictions and inference.\n"
     ]
    }
   ],
   "source": [
    "from simpletransformers.classification import ClassificationModel, ClassificationArgs\n",
    "\n",
    "# Optional model configuration\n",
    "model_args = ClassificationArgs()\n",
    "model_args.num_train_epochs=1\n",
    "model_args.overwrite_output_dir=True\n",
    "\n",
    "#model = ClassificationModel(\"bert\", \"diptanu/fBERT\", args=model_args)\n",
    "model = ClassificationModel(\"bert\", \"GroNLP/hateBERT\", args=model_args,use_cuda=False)"
   ]
  },
  {
   "cell_type": "code",
   "execution_count": 4,
   "id": "46790e47",
   "metadata": {},
   "outputs": [],
   "source": [
    "import pandas as pd\n",
    "\n",
    "df_train_olid_small = pd.read_csv(r'C:\\Users\\popil\\Desktop\\arxeia\\Subjectivity_mining_assignment_3_4_data\\olid-train-small.csv')\n",
    "df_train_hasoc = pd.read_csv(r'C:\\Users\\popil\\Desktop\\arxeia\\Subjectivity_mining_assignment_3_4_data\\hasoc-train.csv')\n",
    "df_test_olid = pd.read_csv(r'C:\\Users\\popil\\Desktop\\arxeia\\Subjectivity_mining_assignment_3_4_data\\olid-test.csv')"
   ]
  },
  {
   "cell_type": "code",
   "execution_count": 5,
   "id": "80454760",
   "metadata": {},
   "outputs": [
    {
     "data": {
      "application/vnd.jupyter.widget-view+json": {
       "model_id": "dd53bc67c0644a7d846e5d2d83d50345",
       "version_major": 2,
       "version_minor": 0
      },
      "text/plain": [
       "  0%|          | 0/5852 [00:00<?, ?it/s]"
      ]
     },
     "metadata": {},
     "output_type": "display_data"
    },
    {
     "data": {
      "application/vnd.jupyter.widget-view+json": {
       "model_id": "a304aeca583a4a878b87909bc3b3affb",
       "version_major": 2,
       "version_minor": 0
      },
      "text/plain": [
       "Epoch:   0%|          | 0/1 [00:00<?, ?it/s]"
      ]
     },
     "metadata": {},
     "output_type": "display_data"
    },
    {
     "data": {
      "application/vnd.jupyter.widget-view+json": {
       "model_id": "ec9e5ddf26ff4ea5a876cdec9448a80f",
       "version_major": 2,
       "version_minor": 0
      },
      "text/plain": [
       "Running Epoch 0 of 1:   0%|          | 0/732 [00:00<?, ?it/s]"
      ]
     },
     "metadata": {},
     "output_type": "display_data"
    },
    {
     "data": {
      "text/plain": [
       "(732, 0.6353155349284574)"
      ]
     },
     "execution_count": 5,
     "metadata": {},
     "output_type": "execute_result"
    }
   ],
   "source": [
    "model.train_model(df_train_hasoc)"
   ]
  },
  {
   "cell_type": "code",
   "execution_count": 6,
   "id": "d6adaddc",
   "metadata": {},
   "outputs": [
    {
     "data": {
      "application/vnd.jupyter.widget-view+json": {
       "model_id": "9a34f038958b4f54baafdbb4a6507486",
       "version_major": 2,
       "version_minor": 0
      },
      "text/plain": [
       "  0%|          | 0/860 [00:00<?, ?it/s]"
      ]
     },
     "metadata": {},
     "output_type": "display_data"
    },
    {
     "data": {
      "application/vnd.jupyter.widget-view+json": {
       "model_id": "a3822785ff884904af87914a411e8086",
       "version_major": 2,
       "version_minor": 0
      },
      "text/plain": [
       "Running Evaluation:   0%|          | 0/108 [00:00<?, ?it/s]"
      ]
     },
     "metadata": {},
     "output_type": "display_data"
    }
   ],
   "source": [
    "result, model_outputs, wrong_predictions = model.eval_model(df_test_olid)"
   ]
  },
  {
   "cell_type": "code",
   "execution_count": 7,
   "id": "09c4ddba",
   "metadata": {},
   "outputs": [
    {
     "name": "stdout",
     "output_type": "stream",
     "text": [
      "              precision    recall  f1-score   support\n",
      "\n",
      "           0       0.80      0.93      0.86       620\n",
      "           1       0.71      0.41      0.52       240\n",
      "\n",
      "    accuracy                           0.79       860\n",
      "   macro avg       0.76      0.67      0.69       860\n",
      "weighted avg       0.78      0.79      0.77       860\n",
      "\n"
     ]
    }
   ],
   "source": [
    "from sklearn.metrics import classification_report\n",
    "import numpy as np\n",
    "\n",
    "print(classification_report(\n",
    "    y_true=df_test_olid['labels'],\n",
    "    y_pred=np.argmax(model_outputs, axis=1)\n",
    "))"
   ]
  },
  {
   "cell_type": "code",
   "execution_count": 9,
   "id": "1818d351",
   "metadata": {},
   "outputs": [
    {
     "name": "stdout",
     "output_type": "stream",
     "text": [
      "[[579  41]\n",
      " [141  99]]\n"
     ]
    }
   ],
   "source": [
    "from sklearn.metrics import confusion_matrix\n",
    "\n",
    "#Generate the confusion matrix\n",
    "cf_matrix = confusion_matrix(df_test_olid['labels'],np.argmax(model_outputs, axis=1))\n",
    "\n",
    "print(cf_matrix)"
   ]
  },
  {
   "cell_type": "code",
   "execution_count": 10,
   "id": "e1229cb1",
   "metadata": {},
   "outputs": [
    {
     "data": {
      "image/png": "[encoded data removed]",
      "text/plain": [
       "<Figure size 432x288 with 2 Axes>"
      ]
     },
     "metadata": {
      "needs_background": "light"
     },
     "output_type": "display_data"
    }
   ],
   "source": [
    "import seaborn as sns\n",
    "import matplotlib.pyplot as plt\n",
    "\n",
    "group_names = ['True Neg','False Pos','False Neg','True Pos']\n",
    "\n",
    "group_counts = [\"{0:0.0f}\".format(value) for value in\n",
    "                cf_matrix.flatten()]\n",
    "\n",
    "group_percentages = [\"{0:.2%}\".format(value) for value in\n",
    "                     cf_matrix.flatten()/np.sum(cf_matrix)]\n",
    "\n",
    "labels = [f\"{v1}\\n{v2}\\n{v3}\" for v1, v2, v3 in\n",
    "          zip(group_names,group_counts,group_percentages)]\n",
    "\n",
    "labels = np.asarray(labels).reshape(2,2)\n",
    "\n",
    "ax = sns.heatmap(cf_matrix, annot=labels, fmt='', cmap='Blues')\n",
    "\n",
    "ax.set_title('HateBERT, Cross-domain\\n\\n');\n",
    "ax.set_xlabel('\\nPredicted Values')\n",
    "ax.set_ylabel('Actual Values ');\n",
    "\n",
    "## Ticket labels - List must be in alphabetical order\n",
    "ax.xaxis.set_ticklabels(['0','1'])\n",
    "ax.yaxis.set_ticklabels(['0','1'])\n",
    "\n",
    "## Display the visualization of the Confusion Matrix.\n",
    "plt.show()"
   ]
  },
  {
   "cell_type": "code",
   "execution_count": null,
   "id": "482685d3",
   "metadata": {},
   "outputs": [],
   "source": []
  }
 ],
 "metadata": {
  "kernelspec": {
   "display_name": "Python 3 (ipykernel)",
   "language": "python",
   "name": "python3"
  },
  "language_info": {
   "codemirror_mode": {
    "name": "ipython",
    "version": 3
   },
   "file_extension": ".py",
   "mimetype": "text/x-python",
   "name": "python",
   "nbconvert_exporter": "python",
   "pygments_lexer": "ipython3",
   "version": "3.9.7"
  }
 },
 "nbformat": 4,
 "nbformat_minor": 5
}
