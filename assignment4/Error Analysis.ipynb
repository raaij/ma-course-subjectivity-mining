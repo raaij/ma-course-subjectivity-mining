{
 "cells": [
  {
   "cell_type": "markdown",
   "id": "96a57f98-7d1d-476a-a6a5-6a4e2393a810",
   "metadata": {},
   "source": [
    "# Preliminaries"
   ]
  },
  {
   "cell_type": "code",
   "execution_count": 1,
   "id": "6fd87bd7-055d-4014-9b17-5706a314f7c5",
   "metadata": {},
   "outputs": [],
   "source": [
    "from pathlib import Path\n",
    "\n",
    "import pandas as pd\n",
    "import numpy as np\n",
    "from copy import deepcopy\n",
    "from sklearn.metrics import classification_report\n",
    "import scipy.special\n",
    "\n",
    "PATH_DATA = Path().resolve() / 'data' / 'processed'\n",
    "PATH_DATA.mkdir(exist_ok=True)\n",
    "\n",
    "df_train_olid_small = pd.read_csv(PATH_DATA / 'olid-train-small.csv')\n",
    "df_train_hasoc = pd.read_csv(PATH_DATA / 'hasoc-train.csv')\n",
    "df_test_olid = pd.read_csv(PATH_DATA / 'olid-test.csv')\n",
    "\n",
    "df_test_olid = df_test_olid.sort_values('id').set_index('id')\n",
    "df_train_hasoc = df_train_hasoc.sort_values('id').set_index('id')\n",
    "df_train_olid_small = df_train_olid_small.sort_values('id').set_index('id')"
   ]
  },
  {
   "cell_type": "code",
   "execution_count": 2,
   "id": "f318a330-256e-4e6d-ae03-e90b52264255",
   "metadata": {},
   "outputs": [],
   "source": [
    "df_result = {'ensemble': {}, 'base': {}}\n",
    "df_result['ensemble']['in_domain'] = pd.read_csv('model_outputs/ensemble/in_domain.csv', header=[0, 1, 2])\n",
    "df_result['ensemble']['cross_domain'] = pd.read_csv('model_outputs/ensemble/cross_domain.csv', header=[0, 1, 2])\n",
    "df_result['base']['in_domain'] = pd.read_csv('model_outputs/trained/in_domain.csv', header=[0, 1, 2])\n",
    "df_result['base']['cross_domain'] = pd.read_csv('model_outputs/trained/cross_domain.csv', header=[0, 1, 2])\n",
    "\n",
    "for item in ['ensemble', 'base']:\n",
    "    for setting in ['in_domain', 'cross_domain']:\n",
    "        df = df_result[item][setting]\n",
    "        new_col = []\n",
    "        new_col.append('id')\n",
    "        for col in df.columns[1:]:\n",
    "            value_name, model, _ = col\n",
    "            new_col.append(model + '.' + value_name)\n",
    "        \n",
    "        df.columns = new_col\n",
    "        df_result[item][setting] = df"
   ]
  },
  {
   "cell_type": "code",
   "execution_count": 3,
   "id": "39e19c1f-7437-43c7-87ae-a5f7dcfefd38",
   "metadata": {},
   "outputs": [],
   "source": [
    "real = df_test_olid['labels'].values"
   ]
  },
  {
   "cell_type": "code",
   "execution_count": 4,
   "id": "31035ead-9af2-4c6e-aaf1-22f2e800f00e",
   "metadata": {},
   "outputs": [],
   "source": [
    "_REQUIRED_KEYS = [\n",
    "    ## Classification report metrics\n",
    "    '0', \n",
    "    '1',\n",
    "    'accuracy',\n",
    "    'macro avg', \n",
    "    'weighted avg',\n",
    "    ## Raw predictions for later usage\n",
    "    'predictions',\n",
    "    ## Raw probability outputs for later usage\n",
    "    'probabilities'\n",
    "]\n",
    "\n",
    "results = None\n",
    "\n",
    "def validate_results(model, setting):\n",
    "    for key in _REQUIRED_KEYS:\n",
    "        assert key in results[setting][model], \"INVALID_RESULTS\"\n",
    "\n",
    "def add_result(model, setting, classification_report, predictions, probabilities):\n",
    "    results[setting][model] = classification_report\n",
    "    results[setting][model]['predictions'] = predictions\n",
    "    results[setting][model]['probabilities'] = probabilities\n",
    "    validate_results(model, setting)\n",
    "\n",
    "def reset_results():\n",
    "    global results\n",
    "    \n",
    "    results = {\n",
    "        'in_domain': {\n",
    "\n",
    "        },\n",
    "        'cross_domain': {\n",
    "\n",
    "        }\n",
    "    }\n",
    "\n",
    "reset_results()"
   ]
  },
  {
   "cell_type": "code",
   "execution_count": 5,
   "id": "9f941563-084b-43a6-ba7a-75ca67e7089c",
   "metadata": {},
   "outputs": [],
   "source": [
    "def process_result(type_, model_name, model_name_clean, setting):\n",
    "    try:\n",
    "        probabilities = df_result[type_][setting][model_name + '.probabilities'].values\n",
    "    except KeyError:\n",
    "        probabilities = None\n",
    "    \n",
    "    add_result(\n",
    "        model=model_name_clean,\n",
    "        setting=setting,\n",
    "        classification_report=classification_report(\n",
    "            y_true=real,\n",
    "            y_pred=df_result[type_][setting][model_name + '.predicted'].values,\n",
    "            output_dict=True\n",
    "        ),\n",
    "        predictions=df_result[type_][setting][model_name + '.predicted'].values.ravel(),\n",
    "        probabilities=probabilities\n",
    "    )\n",
    "\n",
    "    print(classification_report(\n",
    "        y_true=real,\n",
    "        y_pred=results[setting][model_name_clean]['predictions']\n",
    "    ))"
   ]
  },
  {
   "cell_type": "code",
   "execution_count": 6,
   "id": "7df92a3f-a13c-468c-94e2-04030b18e63f",
   "metadata": {},
   "outputs": [],
   "source": [
    "import seaborn as sns\n",
    "import matplotlib.pyplot as plt\n",
    "from sklearn.metrics import confusion_matrix\n",
    "\n",
    "def cf_plot(predictions, real, model, setting, ax=None, **kwargs):\n",
    "    cf_matrix = confusion_matrix(real, predictions)\n",
    "    \n",
    "    group_names = ['True Neg','False Pos','False Neg','True Pos']\n",
    "\n",
    "    group_counts = [\"{0:0.0f}\".format(value) for value in\n",
    "                    cf_matrix.flatten()]\n",
    "\n",
    "    group_percentages = [\"{0:.2%}\".format(value) for value in\n",
    "                         cf_matrix.flatten()/np.sum(cf_matrix)]\n",
    "\n",
    "    labels = [f\"{v1}\\n{v2}\\n{v3}\" for v1, v2, v3 in\n",
    "              zip(group_names,group_counts,group_percentages)]\n",
    "\n",
    "    labels = np.asarray(labels).reshape(2,2)\n",
    "    \n",
    "    params = {\n",
    "        'annot': labels,\n",
    "        'fmt': '',\n",
    "        'cmap': 'Blues',\n",
    "        **kwargs\n",
    "    }\n",
    "    if ax:\n",
    "        params['ax'] = ax\n",
    "    \n",
    "    fig = sns.heatmap(cf_matrix, **params)\n",
    "        \n",
    "    fig.set_title(f'{model}\\n\\n')\n",
    "    fig.set_xlabel('\\nPredicted Values')\n",
    "    fig.set_ylabel('Actual Values ')\n",
    "\n",
    "    ## Ticket labels - List must be in alphabetical order\n",
    "    fig.xaxis.set_ticklabels(['0','1'])\n",
    "    fig.yaxis.set_ticklabels(['0','1'])"
   ]
  },
  {
   "cell_type": "code",
   "execution_count": 7,
   "id": "b156097f-97f0-42a8-92a1-f2370c54082a",
   "metadata": {},
   "outputs": [],
   "source": [
    "def results_latex(df_results):\n",
    "    df_results.columns = [col.title() for col in df_results.columns]\n",
    "    base = df_results.round(4).to_latex(index=False)\n",
    "    lines = base.split('\\n')\n",
    "    ##  Debugging\n",
    "    # for i, line in enumerate(base.split('\\n')):\n",
    "    #     print(i, line)\n",
    "    \n",
    "    lines[2] = lines[2].replace('Model', '')\n",
    "    lines.insert(4, r\"\"\"\\textbf{Base Models} & & & \\\\\"\"\")\n",
    "    lines.insert(8, r\"\"\"\\textbf{Ensemble Approaches} & & & \\\\\"\"\")\n",
    "    print('\\n'.join(lines))"
   ]
  },
  {
   "cell_type": "markdown",
   "id": "6a7e9c58-344c-4e79-a249-10a776524dc5",
   "metadata": {
    "tags": []
   },
   "source": [
    "# Base Models"
   ]
  },
  {
   "cell_type": "markdown",
   "id": "ac12896d-23c2-4467-a296-cbc57bfcde92",
   "metadata": {},
   "source": [
    "## HateBERT"
   ]
  },
  {
   "cell_type": "markdown",
   "id": "9d00b49c-3550-4046-a0f9-375186d49877",
   "metadata": {},
   "source": [
    "### In-Domain"
   ]
  },
  {
   "cell_type": "code",
   "execution_count": 8,
   "id": "1cca8743-240a-4248-a7a3-2d2493075a64",
   "metadata": {},
   "outputs": [
    {
     "name": "stdout",
     "output_type": "stream",
     "text": [
      "              precision    recall  f1-score   support\n",
      "\n",
      "           0       0.90      0.90      0.90       620\n",
      "           1       0.73      0.74      0.74       240\n",
      "\n",
      "    accuracy                           0.85       860\n",
      "   macro avg       0.82      0.82      0.82       860\n",
      "weighted avg       0.85      0.85      0.85       860\n",
      "\n"
     ]
    }
   ],
   "source": [
    "process_result('base', 'GroNLP/hateBERT', 'HateBERT', 'in_domain')"
   ]
  },
  {
   "cell_type": "markdown",
   "id": "756317bc-9c7f-4c64-aac5-3f10b2a435fb",
   "metadata": {},
   "source": [
    "### Cross-Domain"
   ]
  },
  {
   "cell_type": "code",
   "execution_count": 9,
   "id": "5f49df95-1af2-420c-bae9-ce65a17d4a44",
   "metadata": {},
   "outputs": [
    {
     "name": "stdout",
     "output_type": "stream",
     "text": [
      "              precision    recall  f1-score   support\n",
      "\n",
      "           0       0.82      0.94      0.87       620\n",
      "           1       0.74      0.45      0.56       240\n",
      "\n",
      "    accuracy                           0.80       860\n",
      "   macro avg       0.78      0.69      0.72       860\n",
      "weighted avg       0.79      0.80      0.79       860\n",
      "\n"
     ]
    }
   ],
   "source": [
    "process_result('base', 'GroNLP/hateBERT', 'HateBERT', 'cross_domain')"
   ]
  },
  {
   "cell_type": "markdown",
   "id": "17144b3c-6825-480e-9639-602a48db0125",
   "metadata": {},
   "source": [
    "## fBERT"
   ]
  },
  {
   "cell_type": "markdown",
   "id": "e1dc2f54-e840-499a-b686-2e3af49921b1",
   "metadata": {},
   "source": [
    "### In-Domain"
   ]
  },
  {
   "cell_type": "code",
   "execution_count": 10,
   "id": "e1293846-550a-408d-9f31-21bbfb9ba75f",
   "metadata": {},
   "outputs": [
    {
     "name": "stdout",
     "output_type": "stream",
     "text": [
      "              precision    recall  f1-score   support\n",
      "\n",
      "           0       0.90      0.90      0.90       620\n",
      "           1       0.75      0.73      0.74       240\n",
      "\n",
      "    accuracy                           0.86       860\n",
      "   macro avg       0.82      0.82      0.82       860\n",
      "weighted avg       0.86      0.86      0.86       860\n",
      "\n"
     ]
    }
   ],
   "source": [
    "process_result('base', 'diptanu/fBERT', 'fBERT', 'in_domain')"
   ]
  },
  {
   "cell_type": "markdown",
   "id": "0961df3e-4c1f-4f38-983a-486f06ed0733",
   "metadata": {},
   "source": [
    "### Cross-Domain"
   ]
  },
  {
   "cell_type": "code",
   "execution_count": 11,
   "id": "55d66612-e334-4bfc-ae5d-129e31f4183d",
   "metadata": {},
   "outputs": [
    {
     "name": "stdout",
     "output_type": "stream",
     "text": [
      "              precision    recall  f1-score   support\n",
      "\n",
      "           0       0.85      0.95      0.90       620\n",
      "           1       0.82      0.58      0.68       240\n",
      "\n",
      "    accuracy                           0.85       860\n",
      "   macro avg       0.84      0.77      0.79       860\n",
      "weighted avg       0.84      0.85      0.84       860\n",
      "\n"
     ]
    }
   ],
   "source": [
    "process_result('base', 'diptanu/fBERT', 'fBERT', 'cross_domain')"
   ]
  },
  {
   "cell_type": "markdown",
   "id": "a8844aea-e779-4c6f-a0a3-59d7f4ff6ccc",
   "metadata": {},
   "source": [
    "## BERT"
   ]
  },
  {
   "cell_type": "markdown",
   "id": "9651a76b-3ac7-4783-9db8-5773658b9c76",
   "metadata": {},
   "source": [
    "### In-Domain"
   ]
  },
  {
   "cell_type": "code",
   "execution_count": 12,
   "id": "a99b603f-7f01-4801-8ea4-05d39e44914c",
   "metadata": {},
   "outputs": [
    {
     "name": "stdout",
     "output_type": "stream",
     "text": [
      "              precision    recall  f1-score   support\n",
      "\n",
      "           0       0.89      0.91      0.90       620\n",
      "           1       0.76      0.72      0.74       240\n",
      "\n",
      "    accuracy                           0.86       860\n",
      "   macro avg       0.82      0.82      0.82       860\n",
      "weighted avg       0.86      0.86      0.86       860\n",
      "\n"
     ]
    }
   ],
   "source": [
    "process_result('base', 'bert-base-uncased', 'BERT', 'in_domain')"
   ]
  },
  {
   "cell_type": "markdown",
   "id": "278e065b-46b8-4934-a437-1e21a67945e0",
   "metadata": {},
   "source": [
    "### Cross-Domain"
   ]
  },
  {
   "cell_type": "code",
   "execution_count": 13,
   "id": "5f758495-fa13-44cf-9d9d-47cbb9b67b4b",
   "metadata": {},
   "outputs": [
    {
     "name": "stdout",
     "output_type": "stream",
     "text": [
      "              precision    recall  f1-score   support\n",
      "\n",
      "           0       0.85      0.94      0.89       620\n",
      "           1       0.77      0.56      0.65       240\n",
      "\n",
      "    accuracy                           0.83       860\n",
      "   macro avg       0.81      0.75      0.77       860\n",
      "weighted avg       0.83      0.83      0.82       860\n",
      "\n"
     ]
    }
   ],
   "source": [
    "process_result('base', 'bert-base-uncased', 'BERT', 'cross_domain')"
   ]
  },
  {
   "cell_type": "markdown",
   "id": "f63a4ef4-44e0-4097-8d46-e3bfea79b195",
   "metadata": {},
   "source": [
    "# Ensemble Approaches"
   ]
  },
  {
   "cell_type": "markdown",
   "id": "9439a547-3d42-46f3-a77e-8b1a279cdae8",
   "metadata": {},
   "source": [
    "## Hard Majority"
   ]
  },
  {
   "cell_type": "markdown",
   "id": "69b343c4-4fca-48ee-adc3-1b27f4785284",
   "metadata": {},
   "source": [
    "### In-Domain"
   ]
  },
  {
   "cell_type": "code",
   "execution_count": 14,
   "id": "ac75f1bc-f9c7-4cd9-8961-660940295e88",
   "metadata": {},
   "outputs": [
    {
     "name": "stdout",
     "output_type": "stream",
     "text": [
      "              precision    recall  f1-score   support\n",
      "\n",
      "           0       0.90      0.91      0.91       620\n",
      "           1       0.76      0.75      0.75       240\n",
      "\n",
      "    accuracy                           0.86       860\n",
      "   macro avg       0.83      0.83      0.83       860\n",
      "weighted avg       0.86      0.86      0.86       860\n",
      "\n"
     ]
    }
   ],
   "source": [
    "process_result('ensemble', 'hard', 'Hard Majority Ensemble', 'in_domain')"
   ]
  },
  {
   "cell_type": "markdown",
   "id": "4d748a64-a83b-4013-9b59-2928c2159c87",
   "metadata": {},
   "source": [
    "### Cross-Domain"
   ]
  },
  {
   "cell_type": "code",
   "execution_count": 15,
   "id": "bcd6bda1-9872-45c7-a9cc-01fd2e5e7b18",
   "metadata": {},
   "outputs": [
    {
     "name": "stdout",
     "output_type": "stream",
     "text": [
      "              precision    recall  f1-score   support\n",
      "\n",
      "           0       0.85      0.95      0.90       620\n",
      "           1       0.82      0.55      0.66       240\n",
      "\n",
      "    accuracy                           0.84       860\n",
      "   macro avg       0.84      0.75      0.78       860\n",
      "weighted avg       0.84      0.84      0.83       860\n",
      "\n"
     ]
    }
   ],
   "source": [
    "process_result('ensemble', 'hard', 'Hard Majority Ensemble', 'cross_domain')"
   ]
  },
  {
   "cell_type": "markdown",
   "id": "31472ea4-bf4e-4d23-a61b-5778d2dca586",
   "metadata": {},
   "source": [
    "## Soft Majority"
   ]
  },
  {
   "cell_type": "markdown",
   "id": "815e13eb-0097-4d71-8f58-c877e8473f0b",
   "metadata": {},
   "source": [
    "### In-Domain"
   ]
  },
  {
   "cell_type": "code",
   "execution_count": 16,
   "id": "94556ade-dca0-4d42-96ba-a747105483db",
   "metadata": {},
   "outputs": [
    {
     "name": "stdout",
     "output_type": "stream",
     "text": [
      "              precision    recall  f1-score   support\n",
      "\n",
      "           0       0.90      0.91      0.91       620\n",
      "           1       0.77      0.74      0.75       240\n",
      "\n",
      "    accuracy                           0.87       860\n",
      "   macro avg       0.83      0.83      0.83       860\n",
      "weighted avg       0.86      0.87      0.86       860\n",
      "\n"
     ]
    }
   ],
   "source": [
    "process_result('ensemble', 'soft', 'Soft Majority Ensemble', 'in_domain')"
   ]
  },
  {
   "cell_type": "markdown",
   "id": "bbfb0380-52a4-46e7-b45b-94cf0a99b133",
   "metadata": {},
   "source": [
    "### Cross-Domain"
   ]
  },
  {
   "cell_type": "code",
   "execution_count": 17,
   "id": "89528fb2-9ecd-4c4f-ac54-eb29185e70df",
   "metadata": {},
   "outputs": [
    {
     "name": "stdout",
     "output_type": "stream",
     "text": [
      "              precision    recall  f1-score   support\n",
      "\n",
      "           0       0.84      0.95      0.89       620\n",
      "           1       0.81      0.53      0.64       240\n",
      "\n",
      "    accuracy                           0.83       860\n",
      "   macro avg       0.83      0.74      0.77       860\n",
      "weighted avg       0.83      0.83      0.82       860\n",
      "\n"
     ]
    }
   ],
   "source": [
    "process_result('ensemble', 'soft', 'Soft Majority Ensemble', 'cross_domain')"
   ]
  },
  {
   "cell_type": "markdown",
   "id": "0da9676d-785d-401d-ae6f-9b0019d5feb4",
   "metadata": {},
   "source": [
    "## Meta Model"
   ]
  },
  {
   "cell_type": "markdown",
   "id": "7b0fb41f-307f-4d20-8176-c36ef5061230",
   "metadata": {},
   "source": [
    "### In-Domain"
   ]
  },
  {
   "cell_type": "code",
   "execution_count": 18,
   "id": "670d7c8e-85ce-4163-b818-fc12e060685e",
   "metadata": {},
   "outputs": [
    {
     "name": "stdout",
     "output_type": "stream",
     "text": [
      "              precision    recall  f1-score   support\n",
      "\n",
      "           0       0.88      0.92      0.90       620\n",
      "           1       0.77      0.67      0.72       240\n",
      "\n",
      "    accuracy                           0.85       860\n",
      "   macro avg       0.82      0.80      0.81       860\n",
      "weighted avg       0.85      0.85      0.85       860\n",
      "\n"
     ]
    }
   ],
   "source": [
    "process_result('ensemble', 'meta', 'Meta Model', 'in_domain')"
   ]
  },
  {
   "cell_type": "markdown",
   "id": "7bb0fa78-9f5e-4d3f-b761-a69e2a7f089d",
   "metadata": {},
   "source": [
    "### Cross-Domain"
   ]
  },
  {
   "cell_type": "code",
   "execution_count": 19,
   "id": "41a4183c-b5aa-4dea-a0ae-64e8e48d731c",
   "metadata": {},
   "outputs": [
    {
     "name": "stdout",
     "output_type": "stream",
     "text": [
      "              precision    recall  f1-score   support\n",
      "\n",
      "           0       0.84      0.94      0.89       620\n",
      "           1       0.77      0.53      0.63       240\n",
      "\n",
      "    accuracy                           0.83       860\n",
      "   macro avg       0.81      0.73      0.76       860\n",
      "weighted avg       0.82      0.83      0.81       860\n",
      "\n"
     ]
    }
   ],
   "source": [
    "process_result('ensemble', 'meta', 'Meta Model', 'cross_domain')"
   ]
  },
  {
   "cell_type": "markdown",
   "id": "16a215be-ab46-448a-a452-348cb64c3ac5",
   "metadata": {},
   "source": [
    "# Overall"
   ]
  },
  {
   "cell_type": "markdown",
   "id": "a1cbf881-6d71-4db6-bb43-cb72459af299",
   "metadata": {},
   "source": [
    "## In Classification Metrics"
   ]
  },
  {
   "cell_type": "code",
   "execution_count": 20,
   "id": "65ec9630-2d99-4cf5-9e1a-66f18cb125fc",
   "metadata": {},
   "outputs": [
    {
     "data": {
      "text/html": [
       "<div>\n",
       "<style scoped>\n",
       "    .dataframe tbody tr th:only-of-type {\n",
       "        vertical-align: middle;\n",
       "    }\n",
       "\n",
       "    .dataframe tbody tr th {\n",
       "        vertical-align: top;\n",
       "    }\n",
       "\n",
       "    .dataframe thead th {\n",
       "        text-align: right;\n",
       "    }\n",
       "</style>\n",
       "<table border=\"1\" class=\"dataframe\">\n",
       "  <thead>\n",
       "    <tr style=\"text-align: right;\">\n",
       "      <th></th>\n",
       "      <th>Model</th>\n",
       "      <th>precision</th>\n",
       "      <th>recall</th>\n",
       "      <th>f1-score</th>\n",
       "    </tr>\n",
       "  </thead>\n",
       "  <tbody>\n",
       "    <tr>\n",
       "      <th>0</th>\n",
       "      <td>HateBERT</td>\n",
       "      <td>0.8160</td>\n",
       "      <td>0.8184</td>\n",
       "      <td>0.8172</td>\n",
       "    </tr>\n",
       "    <tr>\n",
       "      <th>1</th>\n",
       "      <td>fBERT</td>\n",
       "      <td>0.8216</td>\n",
       "      <td>0.8183</td>\n",
       "      <td>0.8199</td>\n",
       "    </tr>\n",
       "    <tr>\n",
       "      <th>2</th>\n",
       "      <td>BERT</td>\n",
       "      <td>0.8246</td>\n",
       "      <td>0.8153</td>\n",
       "      <td>0.8197</td>\n",
       "    </tr>\n",
       "    <tr>\n",
       "      <th>3</th>\n",
       "      <td>Hard Majority Ensemble</td>\n",
       "      <td>0.8321</td>\n",
       "      <td>0.8278</td>\n",
       "      <td>0.8299</td>\n",
       "    </tr>\n",
       "    <tr>\n",
       "      <th>4</th>\n",
       "      <td>Soft Majority Ensemble</td>\n",
       "      <td>0.8343</td>\n",
       "      <td>0.8273</td>\n",
       "      <td>0.8306</td>\n",
       "    </tr>\n",
       "    <tr>\n",
       "      <th>5</th>\n",
       "      <td>Meta Model</td>\n",
       "      <td>0.8226</td>\n",
       "      <td>0.7959</td>\n",
       "      <td>0.8074</td>\n",
       "    </tr>\n",
       "  </tbody>\n",
       "</table>\n",
       "</div>"
      ],
      "text/plain": [
       "                    Model  precision  recall  f1-score\n",
       "0                HateBERT     0.8160  0.8184    0.8172\n",
       "1                   fBERT     0.8216  0.8183    0.8199\n",
       "2                    BERT     0.8246  0.8153    0.8197\n",
       "3  Hard Majority Ensemble     0.8321  0.8278    0.8299\n",
       "4  Soft Majority Ensemble     0.8343  0.8273    0.8306\n",
       "5              Meta Model     0.8226  0.7959    0.8074"
      ]
     },
     "execution_count": 20,
     "metadata": {},
     "output_type": "execute_result"
    }
   ],
   "source": [
    "df_results = []\n",
    "for model in results['in_domain'].keys():\n",
    "    df_results.append({\n",
    "        'Model': model,\n",
    "        **results['in_domain'][model]['macro avg']\n",
    "    })\n",
    "df_results = pd.DataFrame(df_results)\n",
    "df_results = df_results[df_results.columns[:-1]]\n",
    "df_results.round(4)"
   ]
  },
  {
   "cell_type": "code",
   "execution_count": 21,
   "id": "c4a850d1-7fc7-4154-a5a4-f62831ed363c",
   "metadata": {},
   "outputs": [
    {
     "name": "stdout",
     "output_type": "stream",
     "text": [
      "\\begin{tabular}{lrrr}\n",
      "\\toprule\n",
      "                  &  Precision &  Recall &  F1-Score \\\\\n",
      "\\midrule\n",
      "\\textbf{Base Models} & & & \\\\\n",
      "              HateBERT &     0.8160 &  0.8184 &    0.8172 \\\\\n",
      "                 fBERT &     0.8216 &  0.8183 &    0.8199 \\\\\n",
      "                  BERT &     0.8246 &  0.8153 &    0.8197 \\\\\n",
      "\\textbf{Ensemble Approaches} & & & \\\\\n",
      "Hard Majority Ensemble &     0.8321 &  0.8278 &    0.8299 \\\\\n",
      "Soft Majority Ensemble &     0.8343 &  0.8273 &    0.8306 \\\\\n",
      "            Meta Model &     0.8226 &  0.7959 &    0.8074 \\\\\n",
      "\\bottomrule\n",
      "\\end{tabular}\n",
      "\n"
     ]
    },
    {
     "name": "stderr",
     "output_type": "stream",
     "text": [
      "/tmp/ipykernel_17217/1397639413.py:3: FutureWarning: In future versions `DataFrame.to_latex` is expected to utilise the base implementation of `Styler.to_latex` for formatting and rendering. The arguments signature may therefore change. It is recommended instead to use `DataFrame.style.to_latex` which also contains additional functionality.\n",
      "  base = df_results.round(4).to_latex(index=False)\n"
     ]
    }
   ],
   "source": [
    "results_latex(df_results)"
   ]
  },
  {
   "cell_type": "markdown",
   "id": "fd8a0da5-0bb5-4f9f-9104-e9fdc5679bf5",
   "metadata": {},
   "source": [
    "## Cross Domain Classification Metrics"
   ]
  },
  {
   "cell_type": "code",
   "execution_count": 22,
   "id": "83243013-f59c-4755-8eaa-48b8e014a511",
   "metadata": {},
   "outputs": [
    {
     "data": {
      "text/html": [
       "<div>\n",
       "<style scoped>\n",
       "    .dataframe tbody tr th:only-of-type {\n",
       "        vertical-align: middle;\n",
       "    }\n",
       "\n",
       "    .dataframe tbody tr th {\n",
       "        vertical-align: top;\n",
       "    }\n",
       "\n",
       "    .dataframe thead th {\n",
       "        text-align: right;\n",
       "    }\n",
       "</style>\n",
       "<table border=\"1\" class=\"dataframe\">\n",
       "  <thead>\n",
       "    <tr style=\"text-align: right;\">\n",
       "      <th></th>\n",
       "      <th>Model</th>\n",
       "      <th>precision</th>\n",
       "      <th>recall</th>\n",
       "      <th>f1-score</th>\n",
       "    </tr>\n",
       "  </thead>\n",
       "  <tbody>\n",
       "    <tr>\n",
       "      <th>0</th>\n",
       "      <td>HateBERT</td>\n",
       "      <td>0.7774</td>\n",
       "      <td>0.6944</td>\n",
       "      <td>0.7161</td>\n",
       "    </tr>\n",
       "    <tr>\n",
       "      <th>1</th>\n",
       "      <td>fBERT</td>\n",
       "      <td>0.8368</td>\n",
       "      <td>0.7667</td>\n",
       "      <td>0.7906</td>\n",
       "    </tr>\n",
       "    <tr>\n",
       "      <th>2</th>\n",
       "      <td>BERT</td>\n",
       "      <td>0.8101</td>\n",
       "      <td>0.7477</td>\n",
       "      <td>0.7690</td>\n",
       "    </tr>\n",
       "    <tr>\n",
       "      <th>3</th>\n",
       "      <td>Hard Majority Ensemble</td>\n",
       "      <td>0.8354</td>\n",
       "      <td>0.7524</td>\n",
       "      <td>0.7785</td>\n",
       "    </tr>\n",
       "    <tr>\n",
       "      <th>4</th>\n",
       "      <td>Soft Majority Ensemble</td>\n",
       "      <td>0.8268</td>\n",
       "      <td>0.7412</td>\n",
       "      <td>0.7671</td>\n",
       "    </tr>\n",
       "    <tr>\n",
       "      <th>5</th>\n",
       "      <td>Meta Model</td>\n",
       "      <td>0.8060</td>\n",
       "      <td>0.7347</td>\n",
       "      <td>0.7574</td>\n",
       "    </tr>\n",
       "  </tbody>\n",
       "</table>\n",
       "</div>"
      ],
      "text/plain": [
       "                    Model  precision  recall  f1-score\n",
       "0                HateBERT     0.7774  0.6944    0.7161\n",
       "1                   fBERT     0.8368  0.7667    0.7906\n",
       "2                    BERT     0.8101  0.7477    0.7690\n",
       "3  Hard Majority Ensemble     0.8354  0.7524    0.7785\n",
       "4  Soft Majority Ensemble     0.8268  0.7412    0.7671\n",
       "5              Meta Model     0.8060  0.7347    0.7574"
      ]
     },
     "execution_count": 22,
     "metadata": {},
     "output_type": "execute_result"
    }
   ],
   "source": [
    "df_results = []\n",
    "for model in results['cross_domain'].keys():\n",
    "    df_results.append({\n",
    "        'Model': model,\n",
    "        **results['cross_domain'][model]['macro avg']\n",
    "    })\n",
    "df_results = pd.DataFrame(df_results)\n",
    "df_results = df_results[df_results.columns[:-1]]\n",
    "df_results.round(4)"
   ]
  },
  {
   "cell_type": "code",
   "execution_count": 23,
   "id": "26f64146-fb36-4221-bf2f-61dd2b438911",
   "metadata": {},
   "outputs": [
    {
     "name": "stdout",
     "output_type": "stream",
     "text": [
      "\\begin{tabular}{lrrr}\n",
      "\\toprule\n",
      "                  &  Precision &  Recall &  F1-Score \\\\\n",
      "\\midrule\n",
      "\\textbf{Base Models} & & & \\\\\n",
      "              HateBERT &     0.7774 &  0.6944 &    0.7161 \\\\\n",
      "                 fBERT &     0.8368 &  0.7667 &    0.7906 \\\\\n",
      "                  BERT &     0.8101 &  0.7477 &    0.7690 \\\\\n",
      "\\textbf{Ensemble Approaches} & & & \\\\\n",
      "Hard Majority Ensemble &     0.8354 &  0.7524 &    0.7785 \\\\\n",
      "Soft Majority Ensemble &     0.8268 &  0.7412 &    0.7671 \\\\\n",
      "            Meta Model &     0.8060 &  0.7347 &    0.7574 \\\\\n",
      "\\bottomrule\n",
      "\\end{tabular}\n",
      "\n"
     ]
    },
    {
     "name": "stderr",
     "output_type": "stream",
     "text": [
      "/tmp/ipykernel_17217/1397639413.py:3: FutureWarning: In future versions `DataFrame.to_latex` is expected to utilise the base implementation of `Styler.to_latex` for formatting and rendering. The arguments signature may therefore change. It is recommended instead to use `DataFrame.style.to_latex` which also contains additional functionality.\n",
      "  base = df_results.round(4).to_latex(index=False)\n"
     ]
    }
   ],
   "source": [
    "results_latex(df_results)"
   ]
  },
  {
   "cell_type": "markdown",
   "id": "c41fa235-ccd7-4c5a-a10c-e63f28368ab2",
   "metadata": {},
   "source": [
    "## In-Domain Confusion Matrices"
   ]
  },
  {
   "cell_type": "code",
   "execution_count": 24,
   "id": "adc3da75-afb7-40bd-acaa-2fea2baaad0d",
   "metadata": {},
   "outputs": [
    {
     "data": {
      "image/png": "[encoded data removed]",
      "text/plain": [
       "<Figure size 1500x300 with 5 Axes>"
      ]
     },
     "metadata": {},
     "output_type": "display_data"
    }
   ],
   "source": [
    "fig, axs = plt.subplots(nrows=1, ncols=4, figsize=(15, 3))\n",
    "\n",
    "for i, model_name in enumerate(['BERT', 'fBERT', 'HateBERT', 'Soft Majority Ensemble']):\n",
    "    cbar = False if i < 3 else True\n",
    "    \n",
    "    cf_plot(\n",
    "        predictions=results['in_domain'][model_name]['predictions'],\n",
    "        real=real,\n",
    "        ax=axs[i],\n",
    "        cbar=cbar,\n",
    "        model=model_name,\n",
    "        setting='In-Domain',\n",
    "        vmin=0,\n",
    "        vmax=600,\n",
    "    )\n",
    "\n",
    "plt.savefig('in_domain_confusion_matrix.svg')"
   ]
  },
  {
   "cell_type": "markdown",
   "id": "6b75aa50-3c98-43cc-9cfe-4aec6f763e44",
   "metadata": {},
   "source": [
    "## Cross-Domain Confusion Matrices"
   ]
  },
  {
   "cell_type": "code",
   "execution_count": 25,
   "id": "117bd0a9-b64c-4682-b5dd-cbfc9662a7df",
   "metadata": {},
   "outputs": [
    {
     "data": {
      "image/png": "[encoded data removed]",
      "text/plain": [
       "<Figure size 1500x300 with 5 Axes>"
      ]
     },
     "metadata": {},
     "output_type": "display_data"
    }
   ],
   "source": [
    "fig, axs = plt.subplots(nrows=1, ncols=4, figsize=(15, 3))\n",
    "\n",
    "for i, model_name in enumerate(['BERT', 'fBERT', 'HateBERT', 'Soft Majority Ensemble']):\n",
    "    cbar = False if i < 3 else True\n",
    "    \n",
    "    cf_plot(\n",
    "        predictions=results['cross_domain'][model_name]['predictions'],\n",
    "        real=real,\n",
    "        ax=axs[i],\n",
    "        cbar=cbar,\n",
    "        model=model_name,\n",
    "        setting='In-Domain',\n",
    "        vmin=0,\n",
    "        vmax=600,\n",
    "    )\n",
    "\n",
    "plt.savefig('cross_domain_confusion_matrix.svg')"
   ]
  },
  {
   "cell_type": "markdown",
   "id": "f1aba813-4b63-4886-8770-7460ab74a0cf",
   "metadata": {},
   "source": [
    "# Qualitative Error Analysis\n",
    "\n",
    "Done via Excel / GSheets"
   ]
  },
  {
   "cell_type": "markdown",
   "id": "f448c76e-ad07-4561-b217-07be89421dbb",
   "metadata": {},
   "source": [
    "## In-Domain"
   ]
  },
  {
   "cell_type": "code",
   "execution_count": 30,
   "id": "f0df7446-be9f-4fdb-800c-27e9da4b515a",
   "metadata": {},
   "outputs": [],
   "source": [
    "error_analysis_in_domain = pd.read_csv('data/raw/olid-test.csv')\n",
    "error_analysis_in_domain = error_analysis_in_domain.sort_values('id')\n",
    "error_analysis_in_domain['prediction'] = results['in_domain']['Soft Majority Ensemble']['predictions']\n",
    "error_analysis_in_domain['P(hate)'] = results['in_domain']['Soft Majority Ensemble']['probabilities']\n",
    "error_analysis_in_domain.to_csv('data/in_domain_analysis.csv', index=False)"
   ]
  },
  {
   "cell_type": "markdown",
   "id": "c8fc88b9-bdb5-46d1-90b2-867258d211df",
   "metadata": {},
   "source": [
    "## Cross-Domain"
   ]
  },
  {
   "cell_type": "code",
   "execution_count": 31,
   "id": "4efceb37-41dc-43e3-b8b1-132be34b3ac5",
   "metadata": {},
   "outputs": [],
   "source": [
    "error_analysis_cross_domain = pd.read_csv('data/raw/olid-test.csv')\n",
    "error_analysis_cross_domain = error_analysis_cross_domain.sort_values('id')\n",
    "error_analysis_cross_domain['prediction'] = results['cross_domain']['Soft Majority Ensemble']['predictions']\n",
    "error_analysis_cross_domain['P(hate)'] = results['cross_domain']['Soft Majority Ensemble']['probabilities']\n",
    "error_analysis_cross_domain.to_csv('data/cross_domain_analysis.csv', index=False)"
   ]
  },
  {
   "cell_type": "code",
   "execution_count": 32,
   "id": "6420e7ba-66f0-4ca0-b4a1-fc36a68d1e8d",
   "metadata": {},
   "outputs": [],
   "source": [
    "dff = error_analysis_cross_domain"
   ]
  },
  {
   "cell_type": "code",
   "execution_count": 33,
   "id": "59fe27b8-3861-4f49-a233-d41b114b26a7",
   "metadata": {},
   "outputs": [
    {
     "name": "stdout",
     "output_type": "stream",
     "text": [
      "0.1838751163069062\n",
      "#BREAKING. #Greece: Molotov cocktails fly after protest honouring killed antifa arti... URL via @USER URL\n",
      "0.1861054915732508\n",
      "#NoPasaran: Unity demo to oppose the far-right in #London – #antifa #Oct13 — Enough is Enough! URL\n",
      "0.1971220693615422\n",
      "#GreatestThingsAboutThe90s liberals weren’t unhinged\n",
      "0.2014037907775795\n",
      "#Liberals Are Reaching Peak Desperation To Call On #PhillipRuddock To Talk With #Turnbull To Convince Him To Help with #WentworthVotes 18 Sept 2018  @USER #Auspol #LNP #NSWpol @USER  @USER @USER #LNPMemes URL\n",
      "0.2158347987588683\n",
      "#Conservatives Govt have run up debt in spite of austerity cuts while the rich have doubled their wealth. #inequality  URL via @USER\n",
      "0.2228060571444725\n",
      "#EmmyAwards2018 - Ratings tank as expected.  Who can possibly stand to watch so many liberals in one place at one time.\n",
      "0.2291610909461995\n",
      "@USER Antifa has TS level influence. It's scary.\n",
      "0.2297271107557907\n",
      "#CarbonTax works and will put tons more money BACK INTO Canadian pockets.  .@USER  .@USER  .@USER .@USER  Part of why Trudeau won in 2015 was campaigning on a national carbon tax. Conservatives died then. They want another death in 2019...we will oblige. URL\n",
      "0.2298178136999189\n",
      "#GoodMorningAmerica  #TuesdayMotivation #Thankyou #FatherGod the #Americanpeople will begin to see the #truth about our #governmentcorruption @USER @USER @USER #mediaCorruption #NoRedaction #DeclassifyFISA #Declassification completely #Obama #HillaryClinton #Lies #Leakers #liberals URL\n",
      "0.2382623244251611\n",
      "#BREXIT deal HAS been reached - and will be unveiled at special summit in NOVEMBER, Has @USER sold out the #UK to the eu??? She better have not or the @USER are finished!! @USER URL\n",
      "0.2489501297331744\n",
      "#DrFord  #DearProfessorFord  Is a FRAUD Female @USER group paid for and organized by #GeorgeSoros URL\n",
      "0.2496620830347032\n",
      "@USER #Diversity only works when those joining the new group want to be a part of the team.   #Islam hates every non-Muslim   #Fail  #Unicorns\n",
      "0.2581978609737709\n",
      "#Christian #America – If we go by #Trump’s example, where liberals support open borders, I guess conservatives support school shootings.   Please explain how this makes America great again.\n",
      "0.2615418784113515\n",
      "#NEWS Jeff Sessions: If you want more death, 'listen to the ACLU, Antifa, Black Lives Matter'\" URL #CNBC\"\n",
      "0.2646064868021026\n",
      "#ChristineBlaseyFord is only being harassed by members of the Antifa the radical arm of the Democratic Party funded by George Soros.  #VoteRedToSaveAmerica\n",
      "0.2688827946915741\n",
      "#ArrestGeorgeSoros He Funds #DomesticTerrorists #Antifa URL\n",
      "0.2700563228228741\n",
      "#Beeto Just Demonstrated How To Lose An Election In #Texas   URL #MAGA @USER #rkba @USER #DVC\n",
      "0.2709480625233448\n",
      "#NAME?\n",
      "0.2722072070814494\n",
      "#Coupdetat of #Spain in #Catalona. #Spain is a  #fakedemocracy @USER @USER @USER @USER @USER @USER @USER @USER @USER @USER @USER @USER @USER @USER @USER #cddr #shameonSpain #WakeupEurope @USER @USER URL\n",
      "0.273006194610826\n",
      "#JusticeForSoniasFather  Mr Usman buzdar sb! please respond to Sonia Iqbal daughter of PTI counsellor from okara whose father was killed during elections by nawaz league killers. She is saying she will commit suicide in front of media. Where is justice?\n"
     ]
    }
   ],
   "source": [
    "dff = dff[dff['labels'] == 1]\n",
    "dff = dff[dff['prediction'] == 0]\n",
    "for i, row in dff.sort_values('P(hate)').head(20).iterrows():\n",
    "    print(row['P(hate)'])\n",
    "    print(row['text'])"
   ]
  },
  {
   "cell_type": "code",
   "execution_count": null,
   "id": "a2290f10-a7c0-492d-8078-ac7692bf5714",
   "metadata": {},
   "outputs": [],
   "source": []
  }
 ],
 "metadata": {
  "kernelspec": {
   "display_name": "Python 3 (ipykernel)",
   "language": "python",
   "name": "python3"
  },
  "language_info": {
   "codemirror_mode": {
    "name": "ipython",
    "version": 3
   },
   "file_extension": ".py",
   "mimetype": "text/x-python",
   "name": "python",
   "nbconvert_exporter": "python",
   "pygments_lexer": "ipython3",
   "version": "3.8.13"
  }
 },
 "nbformat": 4,
 "nbformat_minor": 5
}
