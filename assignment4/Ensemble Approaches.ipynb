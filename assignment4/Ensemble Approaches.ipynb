{
 "cells": [
  {
   "cell_type": "markdown",
   "id": "ec6b9aa2-9f2c-4118-bf9d-6f7248cda322",
   "metadata": {},
   "source": [
    "# Preliminaries"
   ]
  },
  {
   "cell_type": "code",
   "execution_count": 1,
   "id": "2c0698e6-a51a-40ad-ad79-9015a12fc057",
   "metadata": {},
   "outputs": [],
   "source": [
    "import pandas as pd\n",
    "from pathlib import Path\n",
    "\n",
    "import numpy as np \n",
    "import pandas as pd\n",
    "import scipy.special\n",
    "from scipy.stats import mode\n",
    "from sklearn.metrics import classification_report\n",
    "from copy import deepcopy"
   ]
  },
  {
   "cell_type": "code",
   "execution_count": 2,
   "id": "5aea0593-b7f1-4903-897c-065011f70298",
   "metadata": {},
   "outputs": [],
   "source": [
    "out_of_sample_predictions = {\n",
    "    'in': pd.read_csv('model_outputs/out_of_sample/in_domain.csv', header=[0, 1, 2]),\n",
    "    'cross': pd.read_csv('model_outputs/out_of_sample/cross_domain.csv', header=[0, 1, 2])\n",
    "}\n",
    "\n",
    "trained_predictions = {\n",
    "    'in': pd.read_csv('model_outputs/trained/in_domain.csv', header=[0, 1, 2]),\n",
    "    'cross': pd.read_csv('model_outputs/trained/cross_domain.csv', header=[0, 1, 2])\n",
    "}\n",
    "\n",
    "df_train_olid_small = pd.read_csv('data/processed/olid-train-small.csv')\n",
    "df_train_hasoc = pd.read_csv('data/processed/hasoc-train.csv')\n",
    "df_test_olid = pd.read_csv('data/processed/olid-test.csv')\n",
    "\n",
    "df_test_olid = df_test_olid.sort_values('id').set_index('id')\n",
    "df_train_hasoc = df_train_hasoc.sort_values('id').set_index('id')\n",
    "df_train_olid_small = df_train_olid_small.sort_values('id').set_index('id')"
   ]
  },
  {
   "cell_type": "code",
   "execution_count": 3,
   "id": "5db01998-9e8c-46e7-ac73-d21e2fa67fc6",
   "metadata": {},
   "outputs": [],
   "source": [
    "# Since these are saved pivot tables they have to be processed\n",
    "\n",
    "for item in [out_of_sample_predictions, trained_predictions]:\n",
    "    for setting in ['in', 'cross']:\n",
    "        df = item[setting]\n",
    "        new_col = []\n",
    "        new_col.append('id')\n",
    "        for col in df.columns[1:]:\n",
    "            value_name, model, _ = col\n",
    "            new_col.append(model + '.' + value_name)\n",
    "        \n",
    "        df.columns = new_col\n",
    "        item[setting] = df"
   ]
  },
  {
   "cell_type": "markdown",
   "id": "3b2fbc2a-eaed-4b65-9132-5ea8967afe09",
   "metadata": {},
   "source": [
    "# Ensemble methods"
   ]
  },
  {
   "cell_type": "code",
   "execution_count": 4,
   "id": "a77691f3-88c8-42cf-8e55-7942f3827f83",
   "metadata": {},
   "outputs": [],
   "source": [
    "results = {\n",
    "    'in': {\n",
    "        'hard': {'prediction': None, 'probability': None},\n",
    "        'soft': {'prediction': None, 'probability': None},\n",
    "        'meta': {'prediction': None, 'probability': None}\n",
    "    },\n",
    "    'cross': {\n",
    "        'hard': {'prediction': None, 'probability': None},\n",
    "        'soft': {'prediction': None, 'probability': None},\n",
    "        'meta': {'prediction': None, 'probability': None}\n",
    "    },\n",
    "}"
   ]
  },
  {
   "cell_type": "markdown",
   "id": "ca0ffda6-385d-485c-b4c0-a8340c07e34d",
   "metadata": {},
   "source": [
    "## Hard Majority"
   ]
  },
  {
   "cell_type": "code",
   "execution_count": 5,
   "id": "4de795c0-2e79-44ce-a5ab-f9808d081ca4",
   "metadata": {},
   "outputs": [],
   "source": [
    "for setting in ['in', 'cross']:\n",
    "    df = trained_predictions[setting]\n",
    "    # take the mode of the model predictions\n",
    "    hard_majority_pred, _ = mode(df[[col for col in df if '.predicted' in col]].values, axis=1, keepdims=False)\n",
    "    results[setting]['hard']['prediction'] = hard_majority_pred"
   ]
  },
  {
   "cell_type": "markdown",
   "id": "00acb851-c070-4272-85b0-ecdde8d89ad6",
   "metadata": {},
   "source": [
    "## Soft Majority"
   ]
  },
  {
   "cell_type": "code",
   "execution_count": 6,
   "id": "e5e575fc-b8d6-445e-8dba-650f4b0abadf",
   "metadata": {},
   "outputs": [],
   "source": [
    "for setting in ['in', 'cross']:\n",
    "    df = trained_predictions[setting]\n",
    "    \n",
    "    probas = np.concatenate((\n",
    "        [1 - df[[col for col in df if '.probabilities' in col]].values], # P(no hate) (= 1 - P(hate))\n",
    "        [df[[col for col in df if '.probabilities' in col]].values]      # P(hate)\n",
    "    ))\n",
    "    # convert shape from (classes, instances, models) to (instances, classes, models)\n",
    "    probas = np.moveaxis(probas, 0, 1)\n",
    "\n",
    "    soft_majority_prob = probas.mean(axis=2) # take the mean probability across the models\n",
    "    soft_majority_pred = soft_majority_prob.argmax(axis=1) # predict class corresponding to max mean probability\n",
    "    \n",
    "    results[setting]['soft']['prediction'] = soft_majority_pred\n",
    "    results[setting]['soft']['probability'] = soft_majority_prob"
   ]
  },
  {
   "cell_type": "markdown",
   "id": "a35ea2f8-5960-4aa1-871b-2a3838f4ac69",
   "metadata": {},
   "source": [
    "## Meta Model"
   ]
  },
  {
   "cell_type": "markdown",
   "id": "ebab1f16-ff95-4145-b3f1-08de39d1eecd",
   "metadata": {},
   "source": [
    "### Training Data"
   ]
  },
  {
   "cell_type": "code",
   "execution_count": 7,
   "id": "d0aa71b0-0b97-46ef-b78d-c166679b7936",
   "metadata": {},
   "outputs": [],
   "source": [
    "train_data = {\n",
    "    'in': {'X': None, 'y': None},\n",
    "    'cross': {'X': None, 'y': None}\n",
    "}\n",
    "\n",
    "for setting in ['in', 'cross']:\n",
    "    # Get X\n",
    "    df = deepcopy(out_of_sample_predictions[setting]) # NOTE: Here we are using out of sample predictions\n",
    "    df = df[['id', *[col for col in df.columns if '.probabilities' in col]]]\n",
    "    df = df.sort_values('id').set_index('id')\n",
    "    X_meta_train_predictions = df\n",
    "    \n",
    "    if setting == 'in':\n",
    "        df = deepcopy(df_train_olid_small[df_train_olid_small.columns[2:]])\n",
    "    elif setting == 'cross':\n",
    "        df = deepcopy(df_train_hasoc[df_train_hasoc.columns[2:]])\n",
    "        \n",
    "    X_meta_train_features = df\n",
    "    X_meta_train = X_meta_train_predictions.join(X_meta_train_features)\n",
    "    train_data[setting]['X'] = X_meta_train\n",
    "    \n",
    "    # Get y\n",
    "    if setting == 'in':\n",
    "        df = deepcopy(df_train_olid_small[['labels']])\n",
    "    elif setting == 'cross':\n",
    "        df = deepcopy(df_train_hasoc[['labels']])\n",
    "\n",
    "    train_data[setting]['y'] = df"
   ]
  },
  {
   "cell_type": "markdown",
   "id": "85de75a9-bfc7-4707-bbc5-0104e23e0cd6",
   "metadata": {},
   "source": [
    "### Testing data"
   ]
  },
  {
   "cell_type": "code",
   "execution_count": 8,
   "id": "f2e7b0f7-da8a-429c-8110-009659275a52",
   "metadata": {},
   "outputs": [],
   "source": [
    "test_data = {\n",
    "    'in': {'X': None, 'y': None},\n",
    "    'cross': {'X': None, 'y': None}\n",
    "}\n",
    "\n",
    "for setting in ['in', 'cross']:\n",
    "    # Get X\n",
    "    df = deepcopy(trained_predictions[setting]) # NOTE: Here we are using predictions from models on all data\n",
    "    df = df[['id', *[col for col in df.columns if '.probabilities' in col]]]\n",
    "    df = df.sort_values('id').set_index('id')\n",
    "    X_meta_train_predictions = df\n",
    "    \n",
    "    df = deepcopy(df_test_olid[df_test_olid.columns[2:]])\n",
    "    X_meta_train_features = df\n",
    "\n",
    "    X_meta_train = X_meta_train_predictions.join(X_meta_train_features)\n",
    "    test_data[setting]['X'] = X_meta_train\n",
    "    \n",
    "    # Get y\n",
    "    df = deepcopy(df_test_olid[['labels']])\n",
    "    test_data[setting]['y'] = df"
   ]
  },
  {
   "cell_type": "markdown",
   "id": "c5eb046b-6e3b-4800-be71-0a81c35be54b",
   "metadata": {},
   "source": [
    "## Training and Testing"
   ]
  },
  {
   "cell_type": "code",
   "execution_count": 10,
   "id": "ef37a64d-11a5-4b7d-927e-630ccdb68cd1",
   "metadata": {},
   "outputs": [
    {
     "name": "stderr",
     "output_type": "stream",
     "text": [
      "/tmp/ipykernel_5991/3706017732.py:5: DataConversionWarning: A column-vector y was passed when a 1d array was expected. Please change the shape of y to (n_samples,), for example using ravel().\n",
      "  model.fit(train_data[setting]['X'], train_data[setting]['y'])\n",
      "/tmp/ipykernel_5991/3706017732.py:5: DataConversionWarning: A column-vector y was passed when a 1d array was expected. Please change the shape of y to (n_samples,), for example using ravel().\n",
      "  model.fit(train_data[setting]['X'], train_data[setting]['y'])\n"
     ]
    }
   ],
   "source": [
    "import sklearn.ensemble\n",
    "\n",
    "for setting in ['in', 'cross']:\n",
    "    model = sklearn.ensemble.RandomForestClassifier(n_estimators=100, random_state=1)\n",
    "    model.fit(train_data[setting]['X'], train_data[setting]['y'])\n",
    "    results[setting]['meta']['prediction'] = model.predict(test_data[setting]['X'])\n",
    "    results[setting]['meta']['probability'] = model.predict_proba(test_data[setting]['X'])"
   ]
  },
  {
   "cell_type": "code",
   "execution_count": 11,
   "id": "2e56c0ac-eff2-40b2-af9c-2860543d80b2",
   "metadata": {},
   "outputs": [],
   "source": [
    "for setting in ['in', 'cross']:\n",
    "    idxs = []\n",
    "    labels = []\n",
    "    models = []\n",
    "    probabilities = []\n",
    "    pred = []\n",
    "\n",
    "    for ensemble in ['soft', 'hard', 'meta']:\n",
    "        idxs += list(df_test_olid.index.values.ravel())\n",
    "        labels += list(df_test_olid.labels.values.ravel())\n",
    "        models += [ensemble] * len(df_test_olid.index.values.ravel())\n",
    "        if ensemble != 'hard':\n",
    "            probabilities += list(results[setting][ensemble]['probability'][:,1])\n",
    "        else:\n",
    "            probabilities += [None] * len(df_test_olid.index.values.ravel())\n",
    "        pred += list(results[setting][ensemble]['prediction'])\n",
    "    \n",
    "    df = pd.DataFrame({\n",
    "        'id': idxs,\n",
    "        'label': labels,\n",
    "        'model': models,\n",
    "        'probabilities': probabilities,\n",
    "        'predicted': pred\n",
    "    })\n",
    "    df = pd.pivot_table(df, values= ['label', 'predicted', 'probabilities'], index=['id'], columns=['model'])\n",
    "    df.to_csv('model_outputs/ensemble/' + setting + '_domain.csv')"
   ]
  }
 ],
 "metadata": {
  "kernelspec": {
   "display_name": "Python 3 (ipykernel)",
   "language": "python",
   "name": "python3"
  },
  "language_info": {
   "codemirror_mode": {
    "name": "ipython",
    "version": 3
   },
   "file_extension": ".py",
   "mimetype": "text/x-python",
   "name": "python",
   "nbconvert_exporter": "python",
   "pygments_lexer": "ipython3",
   "version": "3.8.13"
  }
 },
 "nbformat": 4,
 "nbformat_minor": 5
}
