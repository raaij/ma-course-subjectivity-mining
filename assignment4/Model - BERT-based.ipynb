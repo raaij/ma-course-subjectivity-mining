{
 "cells": [
  {
   "cell_type": "markdown",
   "id": "cb5a52fe-e32d-4056-8f43-a31670f66091",
   "metadata": {},
   "source": [
    "# Preliminaries"
   ]
  },
  {
   "cell_type": "code",
   "execution_count": 1,
   "id": "8cfaab79-26a0-4507-bb7c-e43a6053b781",
   "metadata": {},
   "outputs": [],
   "source": [
    "from pathlib import Path\n",
    "\n",
    "PATH_DATA = Path().resolve() / 'data'\n",
    "PATH_DATA.mkdir(exist_ok=True)"
   ]
  },
  {
   "cell_type": "code",
   "execution_count": 2,
   "id": "654a885e-1b3f-4d0c-b1aa-42a14faf1af0",
   "metadata": {},
   "outputs": [],
   "source": [
    "import pandas as pd\n",
    "\n",
    "df_train_olid_small = pd.read_csv('data/processed/olid-train-small.csv')\n",
    "df_train_hasoc = pd.read_csv('data/processed/hasoc-train.csv')\n",
    "df_test_olid = pd.read_csv('data/processed/olid-test.csv')"
   ]
  },
  {
   "cell_type": "code",
   "execution_count": 3,
   "id": "004329e8-6760-4e28-a7de-b83d1b0bc5bb",
   "metadata": {},
   "outputs": [],
   "source": [
    "# !pip install simpletransformers"
   ]
  },
  {
   "cell_type": "code",
   "execution_count": 4,
   "id": "dee2084e-726e-4ff2-a95f-e8c2fb4f2c49",
   "metadata": {},
   "outputs": [],
   "source": [
    "import pandas as pd\n",
    "import random\n",
    "import numpy as np\n",
    "from simpletransformers.classification import ClassificationModel\n",
    "from scipy.special import softmax"
   ]
  },
  {
   "cell_type": "markdown",
   "id": "22be4c8f-8b65-4f74-8a81-5b5c82a2976a",
   "metadata": {},
   "source": [
    "# Setting"
   ]
  },
  {
   "cell_type": "code",
   "execution_count": 5,
   "id": "ff3aafe4-909e-4fd2-91fa-2e8db3e13634",
   "metadata": {},
   "outputs": [],
   "source": [
    "# setting = 'in_domain'\n",
    "setting = 'cross_domain'"
   ]
  },
  {
   "cell_type": "code",
   "execution_count": 6,
   "id": "dacb5b3c-112a-4737-8e16-8765ff3e4c1c",
   "metadata": {},
   "outputs": [],
   "source": [
    "if setting == 'in_domain':\n",
    "    train = df_train_olid_small\n",
    "elif setting == 'cross_domain':\n",
    "    train = df_train_hasoc\n",
    "test = df_test_olid"
   ]
  },
  {
   "cell_type": "markdown",
   "id": "fff6cd0f-b160-4db3-8a7c-9e084721492e",
   "metadata": {},
   "source": [
    "## Running it"
   ]
  },
  {
   "cell_type": "code",
   "execution_count": 7,
   "id": "5c44528f-1195-4b49-8cba-ee679d0184c1",
   "metadata": {},
   "outputs": [
    {
     "name": "stdout",
     "output_type": "stream",
     "text": [
      "cross_domain\n"
     ]
    }
   ],
   "source": [
    "print(setting)"
   ]
  },
  {
   "cell_type": "code",
   "execution_count": 8,
   "id": "81b41de9-6d26-4196-b846-4432ddd59d2d",
   "metadata": {},
   "outputs": [],
   "source": [
    "debug = True"
   ]
  },
  {
   "cell_type": "code",
   "execution_count": 9,
   "id": "2d794c48-7200-40d7-986c-713128575e88",
   "metadata": {},
   "outputs": [
    {
     "name": "stderr",
     "output_type": "stream",
     "text": [
      "Some weights of the model checkpoint at bert-base-uncased were not used when initializing BertForSequenceClassification: ['cls.predictions.transform.LayerNorm.bias', 'cls.predictions.transform.LayerNorm.weight', 'cls.seq_relationship.bias', 'cls.seq_relationship.weight', 'cls.predictions.transform.dense.weight', 'cls.predictions.decoder.weight', 'cls.predictions.transform.dense.bias', 'cls.predictions.bias']\n",
      "- This IS expected if you are initializing BertForSequenceClassification from the checkpoint of a model trained on another task or with another architecture (e.g. initializing a BertForSequenceClassification model from a BertForPreTraining model).\n",
      "- This IS NOT expected if you are initializing BertForSequenceClassification from the checkpoint of a model that you expect to be exactly identical (initializing a BertForSequenceClassification model from a BertForSequenceClassification model).\n",
      "Some weights of BertForSequenceClassification were not initialized from the model checkpoint at bert-base-uncased and are newly initialized: ['classifier.bias', 'classifier.weight']\n",
      "You should probably TRAIN this model on a down-stream task to be able to use it for predictions and inference.\n"
     ]
    },
    {
     "data": {
      "application/vnd.jupyter.widget-view+json": {
       "model_id": "4b7a0e306001416e9e1c300e3f23a9fa",
       "version_major": 2,
       "version_minor": 0
      },
      "text/plain": [
       "  0%|          | 0/20 [00:00<?, ?it/s]"
      ]
     },
     "metadata": {},
     "output_type": "display_data"
    },
    {
     "data": {
      "application/vnd.jupyter.widget-view+json": {
       "model_id": "aa63d99e8bce424cb55d8675ec585424",
       "version_major": 2,
       "version_minor": 0
      },
      "text/plain": [
       "Epoch:   0%|          | 0/1 [00:00<?, ?it/s]"
      ]
     },
     "metadata": {},
     "output_type": "display_data"
    },
    {
     "data": {
      "application/vnd.jupyter.widget-view+json": {
       "model_id": "f28a4582bd1e475899bcc519a007da64",
       "version_major": 2,
       "version_minor": 0
      },
      "text/plain": [
       "Running Epoch 0 of 1:   0%|          | 0/3 [00:00<?, ?it/s]"
      ]
     },
     "metadata": {},
     "output_type": "display_data"
    },
    {
     "data": {
      "application/vnd.jupyter.widget-view+json": {
       "model_id": "4665a478c1fb4d0db71de536ebe4cf95",
       "version_major": 2,
       "version_minor": 0
      },
      "text/plain": [
       "  0%|          | 0/10 [00:00<?, ?it/s]"
      ]
     },
     "metadata": {},
     "output_type": "display_data"
    },
    {
     "data": {
      "application/vnd.jupyter.widget-view+json": {
       "model_id": "190b128b43684079a1b2b8571d51e7c3",
       "version_major": 2,
       "version_minor": 0
      },
      "text/plain": [
       "  0%|          | 0/2 [00:00<?, ?it/s]"
      ]
     },
     "metadata": {},
     "output_type": "display_data"
    }
   ],
   "source": [
    "RANDOM_SEED = 89\n",
    "random.seed(RANDOM_SEED)\n",
    "SIMPLETRANSFORMERS_ARGS = {\n",
    "    'reprocess_input_data':True,\n",
    "    'overwrite_output_dir':True,\n",
    "    'manual_seed': RANDOM_SEED\n",
    "}\n",
    "ALL_MODEL = ['GroNLP/hateBERT', 'diptanu/fBERT', 'bert-base-uncased']\n",
    "\n",
    "if debug:\n",
    "    train = train.head(20)\n",
    "    test = test.head(10)\n",
    "    ALL_MODEL = ['bert-base-uncased']\n",
    "\n",
    "test_index = test.index\n",
    "\n",
    "pred = [] # list of class outputs (predictions)\n",
    "probabilities = [] # list of probability outputs\n",
    "gold = [] # list of gold labels\n",
    "index = [] # list of instance ids\n",
    "machine = [] # list of model_name used to make predictions\n",
    "    \n",
    "for model_name in ALL_MODEL:\n",
    "    model = ClassificationModel('bert', model_name, args=SIMPLETRANSFORMERS_ARGS, use_cuda=True)\n",
    "    \n",
    "    model.train_model(train)\n",
    "    predictions, prob = model.predict(test.text.to_list())\n",
    "\n",
    "    # Update variables\n",
    "    gold.extend(test['labels'])\n",
    "    pred.extend(predictions)\n",
    "    machine.extend([model_name]*np.size(test_index))\n",
    "    # here we apply the softmax function to the outputs to get probabilities\n",
    "    # only P(hate) is kept, as P(not hate) = 1 - P(hate)\n",
    "    probabilities.extend(softmax(prob,axis=1)[:,1]) \n",
    "    index.extend(test_index)\n",
    "\n",
    "output = pd.DataFrame({\n",
    "    'id': [test.id.to_list()[idx] for idx in index],\n",
    "    'label': gold,\n",
    "    'model': machine,\n",
    "    'probabilities': probabilities,\n",
    "    'predicted': pred,\n",
    "})\n",
    "output = pd.pivot_table(output, values= ['label','predicted','probabilities'], index=['id'], columns=['model'])\n",
    "\n",
    "# output.to_csv(\"/content/gdrive/My Drive/outputhasoc.csv\")"
   ]
  },
  {
   "cell_type": "markdown",
   "id": "058aea1e-ccdb-4381-8a60-3502b35ba51c",
   "metadata": {},
   "source": [
    "After running on Colab, save in model_outputs/ to get:\n",
    "\n",
    "```\n",
    "model_outputs\n",
    "├── trained\n",
    "│   ├── cross_domain.csv\n",
    "│   └── in_domain.csv\n",
    "└── ...\n",
    "```"
   ]
  }
 ],
 "metadata": {
  "kernelspec": {
   "display_name": "Python 3 (ipykernel)",
   "language": "python",
   "name": "python3"
  },
  "language_info": {
   "codemirror_mode": {
    "name": "ipython",
    "version": 3
   },
   "file_extension": ".py",
   "mimetype": "text/x-python",
   "name": "python",
   "nbconvert_exporter": "python",
   "pygments_lexer": "ipython3",
   "version": "3.8.13"
  }
 },
 "nbformat": 4,
 "nbformat_minor": 5
}
